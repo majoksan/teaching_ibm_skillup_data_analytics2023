{
 "cells": [
  {
   "cell_type": "markdown",
   "id": "c7b4e60e",
   "metadata": {
    "toc": true
   },
   "source": [
    "<h1>Table of Contents<span class=\"tocSkip\"></span></h1>\n",
    "<div class=\"toc\"><ul class=\"toc-item\"><li><ul class=\"toc-item\"><li><span><a href=\"#IBM-SkillsBuild-Europe-Delivery---Data-Analytics\" data-toc-modified-id=\"IBM-SkillsBuild-Europe-Delivery---Data-Analytics-0.1\"><span class=\"toc-item-num\">0.1&nbsp;&nbsp;</span>IBM SkillsBuild Europe Delivery - Data Analytics</a></span></li><li><span><a href=\"#Data-Analytics-of-Airbnb-Data:\" data-toc-modified-id=\"Data-Analytics-of-Airbnb-Data:-0.2\"><span class=\"toc-item-num\">0.2&nbsp;&nbsp;</span>Data Analytics of Airbnb Data:</a></span><ul class=\"toc-item\"><li><span><a href=\"#Objective:\" data-toc-modified-id=\"Objective:-0.2.1\"><span class=\"toc-item-num\">0.2.1&nbsp;&nbsp;</span>Objective:</a></span></li><li><span><a href=\"#Overview-of-Airbnb-Data:\" data-toc-modified-id=\"Overview-of-Airbnb-Data:-0.2.2\"><span class=\"toc-item-num\">0.2.2&nbsp;&nbsp;</span>Overview of Airbnb Data:</a></span></li><li><span><a href=\"#Dataset-Source\" data-toc-modified-id=\"Dataset-Source-0.2.3\"><span class=\"toc-item-num\">0.2.3&nbsp;&nbsp;</span>Dataset Source</a></span></li></ul></li></ul></li><li><span><a href=\"#Task-1:-Data-Loading-(Python)\" data-toc-modified-id=\"Task-1:-Data-Loading-(Python)-1\"><span class=\"toc-item-num\">1&nbsp;&nbsp;</span>Task 1: Data Loading (Python)</a></span></li><li><span><a href=\"#Task-2a:-Data-Cleaning-(Any-Tool)\" data-toc-modified-id=\"Task-2a:-Data-Cleaning-(Any-Tool)-2\"><span class=\"toc-item-num\">2&nbsp;&nbsp;</span>Task 2a: Data Cleaning (Any Tool)</a></span></li><li><span><a href=\"#Task-2b:-Data-Cleaning-(Python)\" data-toc-modified-id=\"Task-2b:-Data-Cleaning-(Python)-3\"><span class=\"toc-item-num\">3&nbsp;&nbsp;</span>Task 2b: Data Cleaning (Python)</a></span></li><li><span><a href=\"#Task-3:-Data-Transformation-(Any-Tool)\" data-toc-modified-id=\"Task-3:-Data-Transformation-(Any-Tool)-4\"><span class=\"toc-item-num\">4&nbsp;&nbsp;</span>Task 3: Data Transformation (Any Tool)</a></span><ul class=\"toc-item\"><li><span><a href=\"#Task-4:-Exploratory-Data-Analysis-(Any-Tool)\" data-toc-modified-id=\"Task-4:-Exploratory-Data-Analysis-(Any-Tool)-4.1\"><span class=\"toc-item-num\">4.1&nbsp;&nbsp;</span>Task 4: Exploratory Data Analysis (Any Tool)</a></span></li></ul></li><li><span><a href=\"#Task-5a:-Data-Visualization-(Any-Tool)\" data-toc-modified-id=\"Task-5a:-Data-Visualization-(Any-Tool)-5\"><span class=\"toc-item-num\">5&nbsp;&nbsp;</span>Task 5a: Data Visualization (Any Tool)</a></span></li><li><span><a href=\"#Task-5b:-Data-Visualization-(Any-Tool)\" data-toc-modified-id=\"Task-5b:-Data-Visualization-(Any-Tool)-6\"><span class=\"toc-item-num\">6&nbsp;&nbsp;</span>Task 5b: Data Visualization (Any Tool)</a></span></li><li><span><a href=\"#Task-5c:-Data-Visualization-(Any-Tool)\" data-toc-modified-id=\"Task-5c:-Data-Visualization-(Any-Tool)-7\"><span class=\"toc-item-num\">7&nbsp;&nbsp;</span>Task 5c: Data Visualization (Any Tool)</a></span></li></ul></div>"
   ]
  },
  {
   "cell_type": "markdown",
   "id": "5daa76fe",
   "metadata": {},
   "source": [
    "<center><h1>Capstone Project Creation</h1></center>\n",
    "<center><h3>IBM SkillsBuild Europe Delivery - Data Analytics</h3></center>\n",
    "\n",
    "\n",
    "# Pre-requisite\n",
    "\n",
    "* Understanding of Python, Power BI or Tableau\n",
    "* Understanding of Data Cleaning \n",
    "* Understanding Data Visualization"
   ]
  },
  {
   "cell_type": "markdown",
   "id": "ce8639cb",
   "metadata": {},
   "source": [
    "### Data Analytics of Airbnb Data:\n",
    "\n",
    "#### Objective:\n",
    "\n",
    "In this exericise, you will be performing Data Analytics on an Open Dataset dataset coming from Airbnb. Some of the tasks include\n",
    "- Data Cleaning.\n",
    "- Data Transformation\n",
    "- Data Visualization.\n",
    "\n",
    "#### Overview of Airbnb Data:\n",
    "\n",
    "People's main criteria when visiting new places are reasonable accommodation and food. Airbnb (Air-Bed-Breakfast) is an online marketplace created to meet this need of people by renting out their homes for a short term. They offer this facility at a relatively lower price than hotels. Further people worldwide prefer the homely and economical service offered by them. They offer services across various geographical locations\n",
    "\n",
    "#### Dataset Source\n",
    "\n",
    "YOu can get the dataset for this assessment using the following link: https://www.kaggle.com/datasets/arianazmoudeh/airbnbopendata\n",
    "\n",
    "This dataset contains information such as the neighborhood offering these services, room type, price,avaliabilty, reviews, service fee, cancellation policy and rules to use the house. This analysis will help airbnb in improving its services.  \n",
    "\n",
    "So all the best for your Data Analytics Journey on Airbnb data!!!"
   ]
  },
  {
   "cell_type": "markdown",
   "id": "9a86cf69",
   "metadata": {},
   "source": [
    "## Task 1: Data Loading (Python)\n",
    "\n",
    "1. Read the csv file and load it into a pandas dataframe.\n",
    "2. Display the first five rows of your dataframe.\n",
    "3. Display the data types of the columns."
   ]
  },
  {
   "cell_type": "code",
   "execution_count": 1,
   "id": "3e5ea376",
   "metadata": {},
   "outputs": [],
   "source": [
    "## Read the csv file\n"
   ]
  },
  {
   "cell_type": "code",
   "execution_count": 2,
   "id": "18c08d94",
   "metadata": {},
   "outputs": [],
   "source": [
    "## Display the first 5 rows\n"
   ]
  },
  {
   "cell_type": "code",
   "execution_count": 3,
   "id": "0e61d56e",
   "metadata": {},
   "outputs": [],
   "source": [
    "## Display the data types\n"
   ]
  },
  {
   "cell_type": "markdown",
   "id": "0b2e801f",
   "metadata": {},
   "source": [
    "## Task 2a: Data Cleaning (Any Tool)\n",
    "\n",
    "1. Drop some of the unwanted columns. These include `host id`, `id`, `country` and `country code` from the dataset. \n",
    "2. State the reason for not including these columns for your Data Analytics.\n",
    "\n",
    "If using Python for this exercise, please include the code in the cells below. If using any other tool, please include screenshoots before and after the elimination of the columns."
   ]
  },
  {
   "cell_type": "code",
   "execution_count": null,
   "id": "3de0751f",
   "metadata": {},
   "outputs": [],
   "source": []
  },
  {
   "cell_type": "code",
   "execution_count": null,
   "id": "01bd2922-a607-4df9-a73e-204525d4d8a4",
   "metadata": {},
   "outputs": [],
   "source": []
  },
  {
   "cell_type": "code",
   "execution_count": null,
   "id": "b7537ecf-cf3f-4a64-8538-883ec723fad8",
   "metadata": {},
   "outputs": [],
   "source": []
  },
  {
   "cell_type": "markdown",
   "id": "2071cce7",
   "metadata": {},
   "source": [
    "## Task 2b: Data Cleaning (Python)\n",
    "\n",
    "- Check for missing values in the dataframe and display the count in ascending order. **If the values are missing, impute the values as per the datatype of the columns.**\n",
    "- Check whether there are any duplicate values in the dataframe and, if present, remove them.\n",
    "- Display the total number of records in the dataframe before and after removing the duplicates."
   ]
  },
  {
   "cell_type": "code",
   "execution_count": 4,
   "id": "e78c0409",
   "metadata": {},
   "outputs": [],
   "source": [
    "## Check for missing values in the dataframe and display the count in ascending order.\n"
   ]
  },
  {
   "cell_type": "code",
   "execution_count": 5,
   "id": "7a691fba",
   "metadata": {},
   "outputs": [],
   "source": [
    "## Check whether there are any duplicate values in the dataframe and if present remove them.\n"
   ]
  },
  {
   "cell_type": "code",
   "execution_count": 6,
   "id": "5b1596fa",
   "metadata": {},
   "outputs": [],
   "source": [
    "## Display the total number of records in the dataframe after removing the duplicates.\n"
   ]
  },
  {
   "cell_type": "markdown",
   "id": "1bf8912c",
   "metadata": {},
   "source": [
    "## Task 3: Data Transformation (Any Tool)\n",
    "\n",
    "\n",
    "- Rename the column `availability 365` to `days_booked`\n",
    "- Convert all column names to lowercase and replace the spaces in the column names with an underscore \"_\".\n",
    "- Remove the dollar sign and comma from the columns `price` and `service_fee`. If necessary, convert these two columns to the appropriate data type.\n",
    "\n",
    "If using Python for this exercise, please include the code in the cells below. If using any other tool, please include screenshoots of your work."
   ]
  },
  {
   "cell_type": "code",
   "execution_count": 7,
   "id": "3adf9b6b",
   "metadata": {},
   "outputs": [],
   "source": [
    "## Rename the column.\n"
   ]
  },
  {
   "cell_type": "code",
   "execution_count": 8,
   "id": "9e968504",
   "metadata": {},
   "outputs": [],
   "source": [
    "## Convert all column names to lowercase and replace the spaces with an underscore \"_\"\n"
   ]
  },
  {
   "cell_type": "code",
   "execution_count": 9,
   "id": "38430057",
   "metadata": {},
   "outputs": [],
   "source": [
    "## Remove the dollar sign and comma from the columns. If necessary, convert these two columns to the appropriate data type.\n"
   ]
  },
  {
   "cell_type": "markdown",
   "id": "f5fdef8b",
   "metadata": {},
   "source": [
    "### Task 4: Exploratory Data Analysis (Any Tool)\n",
    "\n",
    "- List the count of various room types avaliable in the dataset.\n",
    "- Which room type has the most strict cancellation policy?\n",
    "- List the average price per neighborhood group, and highlight the most expensive neighborhood to rent from.\n",
    "\n",
    "If using Python for this exercise, please include the code in the cells below. If using any other tool, please include screenshoots of your work."
   ]
  },
  {
   "cell_type": "code",
   "execution_count": 10,
   "id": "c171e196",
   "metadata": {},
   "outputs": [],
   "source": [
    "## List the count of various room types avaliable with Airbnb\n"
   ]
  },
  {
   "cell_type": "code",
   "execution_count": 11,
   "id": "7f651811",
   "metadata": {},
   "outputs": [],
   "source": [
    "## Which room type adheres to more strict cancellation policy\n"
   ]
  },
  {
   "cell_type": "code",
   "execution_count": 12,
   "id": "d01c1ac4",
   "metadata": {},
   "outputs": [],
   "source": [
    "## List the prices by neighborhood group and also mention which is the most expensive neighborhood group for rentals\n"
   ]
  },
  {
   "cell_type": "markdown",
   "id": "ca3ed1e6",
   "metadata": {},
   "source": [
    "## Task 5a: Data Visualization (Any Tool)\n",
    "\n",
    "- Create a horizontal bar chart to display the top 10 most expensive neighborhoods in the dataset.\n",
    "    - Create another chart with the 10 cheapest neighborhoods in the dataset.\n",
    "- Create a box and whisker chart that showcases the price distribution of all listings split by room type.\n",
    "\n",
    "If using Python for this exercise, please include the code in the cells below. If using any other tool, please include screenshoots of your work."
   ]
  },
  {
   "cell_type": "code",
   "execution_count": null,
   "id": "4e5a6b74",
   "metadata": {},
   "outputs": [],
   "source": []
  },
  {
   "cell_type": "code",
   "execution_count": null,
   "id": "a4c17b11",
   "metadata": {},
   "outputs": [],
   "source": []
  },
  {
   "cell_type": "code",
   "execution_count": null,
   "id": "2c28b705",
   "metadata": {},
   "outputs": [],
   "source": []
  },
  {
   "cell_type": "code",
   "execution_count": null,
   "id": "1d567723",
   "metadata": {},
   "outputs": [],
   "source": []
  },
  {
   "cell_type": "markdown",
   "id": "9c313303",
   "metadata": {},
   "source": [
    "## Task 5b: Data Visualization (Any Tool)\n",
    "\n",
    "- Create a scatter plot to illustrate the relationshi between the cleaning fee and the room price and write down the kind of correlation, if any, that you see.\n",
    "- Create a line chart to showcase the total amount of listings available per year.\n",
    "\n",
    "If using Python for this exercise, please include the code in the cells below. If using any other tool, please include screenshoots of your work."
   ]
  },
  {
   "cell_type": "code",
   "execution_count": null,
   "id": "8c9d22b5",
   "metadata": {},
   "outputs": [],
   "source": []
  },
  {
   "cell_type": "code",
   "execution_count": null,
   "id": "343be5c4",
   "metadata": {},
   "outputs": [],
   "source": []
  },
  {
   "cell_type": "markdown",
   "id": "9db2466c",
   "metadata": {},
   "source": [
    "## Task 5c: Data Visualization (Any Tool)\n",
    "\n",
    "- Create a data visualization of your choosing using one of the review columns in isolation or in combination with another column.\n",
    "- Create a visualization to compare at least two different variables between super hosts and regular hosts.\n",
    "\n",
    "If using Python for this exercise, please include the code in the cells below. If using any other tool, please include screenshoots of your work."
   ]
  },
  {
   "cell_type": "code",
   "execution_count": null,
   "id": "3f1fb0c3",
   "metadata": {},
   "outputs": [],
   "source": []
  },
  {
   "cell_type": "code",
   "execution_count": null,
   "id": "fcdb016f",
   "metadata": {},
   "outputs": [],
   "source": []
  },
  {
   "cell_type": "code",
   "execution_count": null,
   "id": "1d65f685",
   "metadata": {},
   "outputs": [],
   "source": []
  }
 ],
 "metadata": {
  "kernelspec": {
   "display_name": "Python 3 (ipykernel)",
   "language": "python",
   "name": "python3"
  },
  "language_info": {
   "codemirror_mode": {
    "name": "ipython",
    "version": 3
   },
   "file_extension": ".py",
   "mimetype": "text/x-python",
   "name": "python",
   "nbconvert_exporter": "python",
   "pygments_lexer": "ipython3",
   "version": "3.10.6"
  },
  "nteract": {
   "version": "0.28.0"
  },
  "toc": {
   "base_numbering": 1,
   "nav_menu": {},
   "number_sections": true,
   "sideBar": true,
   "skip_h1_title": true,
   "title_cell": "Table of Contents",
   "title_sidebar": "Contents",
   "toc_cell": true,
   "toc_position": {},
   "toc_section_display": true,
   "toc_window_display": true
  },
  "varInspector": {
   "cols": {
    "lenName": 16,
    "lenType": 16,
    "lenVar": 40
   },
   "kernels_config": {
    "python": {
     "delete_cmd_postfix": "",
     "delete_cmd_prefix": "del ",
     "library": "var_list.py",
     "varRefreshCmd": "print(var_dic_list())"
    },
    "r": {
     "delete_cmd_postfix": ") ",
     "delete_cmd_prefix": "rm(",
     "library": "var_list.r",
     "varRefreshCmd": "cat(var_dic_list()) "
    }
   },
   "types_to_exclude": [
    "module",
    "function",
    "builtin_function_or_method",
    "instance",
    "_Feature"
   ],
   "window_display": false
  }
 },
 "nbformat": 4,
 "nbformat_minor": 5
}
