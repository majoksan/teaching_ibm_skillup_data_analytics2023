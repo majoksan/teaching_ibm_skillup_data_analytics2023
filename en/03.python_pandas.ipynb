{
 "cells": [
  {
   "cell_type": "markdown",
   "id": "01872cf2",
   "metadata": {},
   "source": [
    "# Python: pandas. Practice and exercises"
   ]
  },
  {
   "cell_type": "markdown",
   "id": "96ac98e4",
   "metadata": {},
   "source": [
    "**NOTES**\n",
    "\n",
    " - There are many ways to solve each problem, find yours.\n",
    "\n",
    " - Create the extra cells you need.\n",
    "\n",
    " - Remember that a cell can be a Code cell or a Markdown cell. Use the latter to write text and explanations if needed.\n",
    "\n",
    " - Try to create variables when solving the exercises.\n",
    "\n",
    " - You can rely on the Internet: all programmers do it every day."
   ]
  },
  {
   "cell_type": "markdown",
   "id": "2ba29cfa",
   "metadata": {},
   "source": [
    "<img width=500 src=\"https://upload.wikimedia.org/wikipedia/commons/3/31/TitanicBeken.jpg\">"
   ]
  },
  {
   "cell_type": "markdown",
   "id": "f5e9b5f8",
   "metadata": {},
   "source": [
    "Import the csv of the titanic to a dataframe"
   ]
  },
  {
   "cell_type": "code",
   "execution_count": 1,
   "id": "b951a413",
   "metadata": {},
   "outputs": [],
   "source": [
    "import pandas as pd"
   ]
  },
  {
   "cell_type": "code",
   "execution_count": 2,
   "id": "2776206e",
   "metadata": {},
   "outputs": [],
   "source": [
    "import seaborn as sns"
   ]
  },
  {
   "cell_type": "code",
   "execution_count": 3,
   "id": "8fba2802",
   "metadata": {},
   "outputs": [],
   "source": [
    "df = pd.read_csv(\"../datasets/titanic.csv\")"
   ]
  },
  {
   "cell_type": "code",
   "execution_count": 4,
   "id": "b673db35",
   "metadata": {},
   "outputs": [
    {
     "data": {
      "text/plain": [
       "pandas.core.frame.DataFrame"
      ]
     },
     "execution_count": 4,
     "metadata": {},
     "output_type": "execute_result"
    }
   ],
   "source": [
    "type(df)"
   ]
  },
  {
   "cell_type": "markdown",
   "id": "0228e51b",
   "metadata": {},
   "source": [
    "Take a look at the first rows of the dataframe"
   ]
  },
  {
   "cell_type": "code",
   "execution_count": 5,
   "id": "470d9fa8",
   "metadata": {},
   "outputs": [
    {
     "data": {
      "text/html": [
       "<div>\n",
       "<style scoped>\n",
       "    .dataframe tbody tr th:only-of-type {\n",
       "        vertical-align: middle;\n",
       "    }\n",
       "\n",
       "    .dataframe tbody tr th {\n",
       "        vertical-align: top;\n",
       "    }\n",
       "\n",
       "    .dataframe thead th {\n",
       "        text-align: right;\n",
       "    }\n",
       "</style>\n",
       "<table border=\"1\" class=\"dataframe\">\n",
       "  <thead>\n",
       "    <tr style=\"text-align: right;\">\n",
       "      <th></th>\n",
       "      <th>Name</th>\n",
       "      <th>Sex</th>\n",
       "      <th>Age</th>\n",
       "      <th>Pclass</th>\n",
       "      <th>SibSp</th>\n",
       "      <th>Parch</th>\n",
       "      <th>Ticket</th>\n",
       "      <th>Fare</th>\n",
       "      <th>Cabin</th>\n",
       "      <th>Embarked</th>\n",
       "      <th>Survived</th>\n",
       "    </tr>\n",
       "  </thead>\n",
       "  <tbody>\n",
       "    <tr>\n",
       "      <th>0</th>\n",
       "      <td>Karaic, Mr. Milan</td>\n",
       "      <td>male</td>\n",
       "      <td>30.0</td>\n",
       "      <td>3</td>\n",
       "      <td>0</td>\n",
       "      <td>0</td>\n",
       "      <td>349246</td>\n",
       "      <td>7.8958</td>\n",
       "      <td>NaN</td>\n",
       "      <td>S</td>\n",
       "      <td>0</td>\n",
       "    </tr>\n",
       "    <tr>\n",
       "      <th>1</th>\n",
       "      <td>Dean, Mrs. Bertram</td>\n",
       "      <td>female</td>\n",
       "      <td>33.0</td>\n",
       "      <td>3</td>\n",
       "      <td>1</td>\n",
       "      <td>2</td>\n",
       "      <td>C.A. 2315</td>\n",
       "      <td>20.5750</td>\n",
       "      <td>NaN</td>\n",
       "      <td>S</td>\n",
       "      <td>1</td>\n",
       "    </tr>\n",
       "    <tr>\n",
       "      <th>2</th>\n",
       "      <td>Rice, Mrs. William</td>\n",
       "      <td>female</td>\n",
       "      <td>39.0</td>\n",
       "      <td>3</td>\n",
       "      <td>0</td>\n",
       "      <td>5</td>\n",
       "      <td>382652</td>\n",
       "      <td>29.1250</td>\n",
       "      <td>NaN</td>\n",
       "      <td>Q</td>\n",
       "      <td>0</td>\n",
       "    </tr>\n",
       "    <tr>\n",
       "      <th>3</th>\n",
       "      <td>Davidson, Mrs. Thornton</td>\n",
       "      <td>female</td>\n",
       "      <td>27.0</td>\n",
       "      <td>1</td>\n",
       "      <td>1</td>\n",
       "      <td>2</td>\n",
       "      <td>F.C. 12750</td>\n",
       "      <td>52.0000</td>\n",
       "      <td>B71</td>\n",
       "      <td>S</td>\n",
       "      <td>1</td>\n",
       "    </tr>\n",
       "  </tbody>\n",
       "</table>\n",
       "</div>"
      ],
      "text/plain": [
       "                      Name     Sex   Age  Pclass  SibSp  Parch      Ticket  \\\n",
       "0        Karaic, Mr. Milan    male  30.0       3      0      0      349246   \n",
       "1       Dean, Mrs. Bertram  female  33.0       3      1      2   C.A. 2315   \n",
       "2       Rice, Mrs. William  female  39.0       3      0      5      382652   \n",
       "3  Davidson, Mrs. Thornton  female  27.0       1      1      2  F.C. 12750   \n",
       "\n",
       "      Fare Cabin Embarked  Survived  \n",
       "0   7.8958   NaN        S         0  \n",
       "1  20.5750   NaN        S         1  \n",
       "2  29.1250   NaN        Q         0  \n",
       "3  52.0000   B71        S         1  "
      ]
     },
     "execution_count": 5,
     "metadata": {},
     "output_type": "execute_result"
    }
   ],
   "source": [
    "df.head(4)"
   ]
  },
  {
   "cell_type": "code",
   "execution_count": 6,
   "id": "e1eeb66b",
   "metadata": {},
   "outputs": [
    {
     "data": {
      "text/html": [
       "<div>\n",
       "<style scoped>\n",
       "    .dataframe tbody tr th:only-of-type {\n",
       "        vertical-align: middle;\n",
       "    }\n",
       "\n",
       "    .dataframe tbody tr th {\n",
       "        vertical-align: top;\n",
       "    }\n",
       "\n",
       "    .dataframe thead th {\n",
       "        text-align: right;\n",
       "    }\n",
       "</style>\n",
       "<table border=\"1\" class=\"dataframe\">\n",
       "  <thead>\n",
       "    <tr style=\"text-align: right;\">\n",
       "      <th></th>\n",
       "      <th>Name</th>\n",
       "      <th>Sex</th>\n",
       "      <th>Age</th>\n",
       "      <th>Pclass</th>\n",
       "      <th>SibSp</th>\n",
       "      <th>Parch</th>\n",
       "      <th>Ticket</th>\n",
       "      <th>Fare</th>\n",
       "      <th>Cabin</th>\n",
       "      <th>Embarked</th>\n",
       "      <th>Survived</th>\n",
       "    </tr>\n",
       "  </thead>\n",
       "  <tbody>\n",
       "    <tr>\n",
       "      <th>1306</th>\n",
       "      <td>Gustafsson, Mr. Karl Gideon</td>\n",
       "      <td>male</td>\n",
       "      <td>19.0</td>\n",
       "      <td>3</td>\n",
       "      <td>0</td>\n",
       "      <td>0</td>\n",
       "      <td>347069</td>\n",
       "      <td>7.7750</td>\n",
       "      <td>NaN</td>\n",
       "      <td>S</td>\n",
       "      <td>0</td>\n",
       "    </tr>\n",
       "    <tr>\n",
       "      <th>1307</th>\n",
       "      <td>Gustafsson, Mr. Anders Vilhelm</td>\n",
       "      <td>male</td>\n",
       "      <td>37.0</td>\n",
       "      <td>3</td>\n",
       "      <td>2</td>\n",
       "      <td>0</td>\n",
       "      <td>3101276</td>\n",
       "      <td>7.9250</td>\n",
       "      <td>NaN</td>\n",
       "      <td>S</td>\n",
       "      <td>0</td>\n",
       "    </tr>\n",
       "    <tr>\n",
       "      <th>1308</th>\n",
       "      <td>McDermott, Miss. Brigdet Delia</td>\n",
       "      <td>female</td>\n",
       "      <td>NaN</td>\n",
       "      <td>3</td>\n",
       "      <td>0</td>\n",
       "      <td>0</td>\n",
       "      <td>330932</td>\n",
       "      <td>7.7875</td>\n",
       "      <td>NaN</td>\n",
       "      <td>Q</td>\n",
       "      <td>1</td>\n",
       "    </tr>\n",
       "  </tbody>\n",
       "</table>\n",
       "</div>"
      ],
      "text/plain": [
       "                                Name     Sex   Age  Pclass  SibSp  Parch  \\\n",
       "1306     Gustafsson, Mr. Karl Gideon    male  19.0       3      0      0   \n",
       "1307  Gustafsson, Mr. Anders Vilhelm    male  37.0       3      2      0   \n",
       "1308  McDermott, Miss. Brigdet Delia  female   NaN       3      0      0   \n",
       "\n",
       "       Ticket    Fare Cabin Embarked  Survived  \n",
       "1306   347069  7.7750   NaN        S         0  \n",
       "1307  3101276  7.9250   NaN        S         0  \n",
       "1308   330932  7.7875   NaN        Q         1  "
      ]
     },
     "execution_count": 6,
     "metadata": {},
     "output_type": "execute_result"
    }
   ],
   "source": [
    "df.tail(3)"
   ]
  },
  {
   "cell_type": "markdown",
   "id": "a51e5fde",
   "metadata": {},
   "source": [
    "How many passengers are in this dataframe?"
   ]
  },
  {
   "cell_type": "code",
   "execution_count": 7,
   "id": "d391a6cb",
   "metadata": {},
   "outputs": [
    {
     "data": {
      "text/plain": [
       "1309"
      ]
     },
     "execution_count": 7,
     "metadata": {},
     "output_type": "execute_result"
    }
   ],
   "source": [
    "df.shape[0]"
   ]
  },
  {
   "cell_type": "markdown",
   "id": "932d044f",
   "metadata": {},
   "source": [
    "What are the columns of the dataframe?"
   ]
  },
  {
   "cell_type": "code",
   "execution_count": 8,
   "id": "eff8d0c2",
   "metadata": {},
   "outputs": [
    {
     "data": {
      "text/plain": [
       "Index(['Name', 'Sex', 'Age', 'Pclass', 'SibSp', 'Parch', 'Ticket', 'Fare',\n",
       "       'Cabin', 'Embarked', 'Survived'],\n",
       "      dtype='object')"
      ]
     },
     "execution_count": 8,
     "metadata": {},
     "output_type": "execute_result"
    }
   ],
   "source": [
    "df.columns"
   ]
  },
  {
   "cell_type": "markdown",
   "id": "dbd09ac2",
   "metadata": {},
   "source": [
    "Lists columns of numeric type"
   ]
  },
  {
   "cell_type": "code",
   "execution_count": 9,
   "id": "df9b99d6",
   "metadata": {},
   "outputs": [],
   "source": [
    "col_types = df.dtypes"
   ]
  },
  {
   "cell_type": "code",
   "execution_count": 10,
   "id": "0f57ab7e",
   "metadata": {},
   "outputs": [
    {
     "data": {
      "text/plain": [
       "Name         object\n",
       "Sex          object\n",
       "Age         float64\n",
       "Pclass        int64\n",
       "SibSp         int64\n",
       "Parch         int64\n",
       "Ticket       object\n",
       "Fare        float64\n",
       "Cabin        object\n",
       "Embarked     object\n",
       "Survived      int64\n",
       "dtype: object"
      ]
     },
     "execution_count": 10,
     "metadata": {},
     "output_type": "execute_result"
    }
   ],
   "source": [
    "col_types"
   ]
  },
  {
   "cell_type": "code",
   "execution_count": 11,
   "id": "67f6a2a0",
   "metadata": {},
   "outputs": [
    {
     "name": "stdout",
     "output_type": "stream",
     "text": [
      "Age\n",
      "Pclass\n",
      "SibSp\n",
      "Parch\n",
      "Fare\n",
      "Survived\n"
     ]
    }
   ],
   "source": [
    "for col_name, col_type in col_types.items():\n",
    "    if col_type in [\"int64\", \"float64\"]:\n",
    "        print(col_name)"
   ]
  },
  {
   "cell_type": "markdown",
   "id": "fc60644c",
   "metadata": {},
   "source": [
    "What is the average age of the passengers? And the median? How do you interpret the result?"
   ]
  },
  {
   "cell_type": "code",
   "execution_count": 12,
   "id": "7ffd84d9",
   "metadata": {},
   "outputs": [
    {
     "data": {
      "text/plain": [
       "29.881137667304014"
      ]
     },
     "execution_count": 12,
     "metadata": {},
     "output_type": "execute_result"
    }
   ],
   "source": [
    "df.Age.mean()"
   ]
  },
  {
   "cell_type": "code",
   "execution_count": 13,
   "id": "81db2009",
   "metadata": {},
   "outputs": [
    {
     "data": {
      "text/plain": [
       "28.0"
      ]
     },
     "execution_count": 13,
     "metadata": {},
     "output_type": "execute_result"
    }
   ],
   "source": [
    "df.Age.median()"
   ]
  },
  {
   "cell_type": "markdown",
   "id": "b224b421",
   "metadata": {},
   "source": [
    "Not very different -> not many different orders of magnitude, makes sense\n",
    "\n",
    "mean > median: few quite big values"
   ]
  },
  {
   "cell_type": "code",
   "execution_count": 14,
   "id": "e7d1ed84",
   "metadata": {},
   "outputs": [
    {
     "data": {
      "text/plain": [
       "<AxesSubplot: xlabel='Age', ylabel='Count'>"
      ]
     },
     "execution_count": 14,
     "metadata": {},
     "output_type": "execute_result"
    },
    {
     "data": {
      "image/png": "[encoded data removed]",
      "text/plain": [
       "<Figure size 640x480 with 1 Axes>"
      ]
     },
     "metadata": {},
     "output_type": "display_data"
    }
   ],
   "source": [
    "sns.histplot(x=df.Age)"
   ]
  },
  {
   "cell_type": "markdown",
   "id": "9ff4976e",
   "metadata": {},
   "source": [
    "<img width=400 src=\"https://miro.medium.com/v2/resize:fit:846/1*XU3Kdl521XnWHECHZ7XOaQ.jpeg\">"
   ]
  },
  {
   "cell_type": "markdown",
   "id": "af281c80",
   "metadata": {},
   "source": [
    "How much did the most expensive ticket cost? Who paid for it?"
   ]
  },
  {
   "cell_type": "code",
   "execution_count": 15,
   "id": "54ad6530",
   "metadata": {},
   "outputs": [
    {
     "data": {
      "text/html": [
       "<div>\n",
       "<style scoped>\n",
       "    .dataframe tbody tr th:only-of-type {\n",
       "        vertical-align: middle;\n",
       "    }\n",
       "\n",
       "    .dataframe tbody tr th {\n",
       "        vertical-align: top;\n",
       "    }\n",
       "\n",
       "    .dataframe thead th {\n",
       "        text-align: right;\n",
       "    }\n",
       "</style>\n",
       "<table border=\"1\" class=\"dataframe\">\n",
       "  <thead>\n",
       "    <tr style=\"text-align: right;\">\n",
       "      <th></th>\n",
       "      <th>Name</th>\n",
       "      <th>Sex</th>\n",
       "      <th>Age</th>\n",
       "      <th>Pclass</th>\n",
       "      <th>SibSp</th>\n",
       "      <th>Parch</th>\n",
       "      <th>Ticket</th>\n",
       "      <th>Fare</th>\n",
       "      <th>Cabin</th>\n",
       "      <th>Embarked</th>\n",
       "      <th>Survived</th>\n",
       "    </tr>\n",
       "  </thead>\n",
       "  <tbody>\n",
       "    <tr>\n",
       "      <th>0</th>\n",
       "      <td>Karaic, Mr. Milan</td>\n",
       "      <td>male</td>\n",
       "      <td>30.0</td>\n",
       "      <td>3</td>\n",
       "      <td>0</td>\n",
       "      <td>0</td>\n",
       "      <td>349246</td>\n",
       "      <td>7.8958</td>\n",
       "      <td>NaN</td>\n",
       "      <td>S</td>\n",
       "      <td>0</td>\n",
       "    </tr>\n",
       "    <tr>\n",
       "      <th>1</th>\n",
       "      <td>Dean, Mrs. Bertram</td>\n",
       "      <td>female</td>\n",
       "      <td>33.0</td>\n",
       "      <td>3</td>\n",
       "      <td>1</td>\n",
       "      <td>2</td>\n",
       "      <td>C.A. 2315</td>\n",
       "      <td>20.5750</td>\n",
       "      <td>NaN</td>\n",
       "      <td>S</td>\n",
       "      <td>1</td>\n",
       "    </tr>\n",
       "    <tr>\n",
       "      <th>2</th>\n",
       "      <td>Rice, Mrs. William</td>\n",
       "      <td>female</td>\n",
       "      <td>39.0</td>\n",
       "      <td>3</td>\n",
       "      <td>0</td>\n",
       "      <td>5</td>\n",
       "      <td>382652</td>\n",
       "      <td>29.1250</td>\n",
       "      <td>NaN</td>\n",
       "      <td>Q</td>\n",
       "      <td>0</td>\n",
       "    </tr>\n",
       "    <tr>\n",
       "      <th>3</th>\n",
       "      <td>Davidson, Mrs. Thornton</td>\n",
       "      <td>female</td>\n",
       "      <td>27.0</td>\n",
       "      <td>1</td>\n",
       "      <td>1</td>\n",
       "      <td>2</td>\n",
       "      <td>F.C. 12750</td>\n",
       "      <td>52.0000</td>\n",
       "      <td>B71</td>\n",
       "      <td>S</td>\n",
       "      <td>1</td>\n",
       "    </tr>\n",
       "    <tr>\n",
       "      <th>4</th>\n",
       "      <td>Ridsdale, Miss. Lucy</td>\n",
       "      <td>female</td>\n",
       "      <td>50.0</td>\n",
       "      <td>2</td>\n",
       "      <td>0</td>\n",
       "      <td>0</td>\n",
       "      <td>W./C. 14258</td>\n",
       "      <td>10.5000</td>\n",
       "      <td>NaN</td>\n",
       "      <td>S</td>\n",
       "      <td>1</td>\n",
       "    </tr>\n",
       "  </tbody>\n",
       "</table>\n",
       "</div>"
      ],
      "text/plain": [
       "                      Name     Sex   Age  Pclass  SibSp  Parch       Ticket  \\\n",
       "0        Karaic, Mr. Milan    male  30.0       3      0      0       349246   \n",
       "1       Dean, Mrs. Bertram  female  33.0       3      1      2    C.A. 2315   \n",
       "2       Rice, Mrs. William  female  39.0       3      0      5       382652   \n",
       "3  Davidson, Mrs. Thornton  female  27.0       1      1      2   F.C. 12750   \n",
       "4     Ridsdale, Miss. Lucy  female  50.0       2      0      0  W./C. 14258   \n",
       "\n",
       "      Fare Cabin Embarked  Survived  \n",
       "0   7.8958   NaN        S         0  \n",
       "1  20.5750   NaN        S         1  \n",
       "2  29.1250   NaN        Q         0  \n",
       "3  52.0000   B71        S         1  \n",
       "4  10.5000   NaN        S         1  "
      ]
     },
     "execution_count": 15,
     "metadata": {},
     "output_type": "execute_result"
    }
   ],
   "source": [
    "df.head()"
   ]
  },
  {
   "cell_type": "code",
   "execution_count": 16,
   "id": "43e786ec",
   "metadata": {},
   "outputs": [
    {
     "data": {
      "text/plain": [
       "512.3292"
      ]
     },
     "execution_count": 16,
     "metadata": {},
     "output_type": "execute_result"
    }
   ],
   "source": [
    "df.Fare.max()"
   ]
  },
  {
   "cell_type": "code",
   "execution_count": 17,
   "id": "a93de07a",
   "metadata": {},
   "outputs": [
    {
     "data": {
      "text/html": [
       "<div>\n",
       "<style scoped>\n",
       "    .dataframe tbody tr th:only-of-type {\n",
       "        vertical-align: middle;\n",
       "    }\n",
       "\n",
       "    .dataframe tbody tr th {\n",
       "        vertical-align: top;\n",
       "    }\n",
       "\n",
       "    .dataframe thead th {\n",
       "        text-align: right;\n",
       "    }\n",
       "</style>\n",
       "<table border=\"1\" class=\"dataframe\">\n",
       "  <thead>\n",
       "    <tr style=\"text-align: right;\">\n",
       "      <th></th>\n",
       "      <th>Name</th>\n",
       "      <th>Sex</th>\n",
       "      <th>Age</th>\n",
       "      <th>Pclass</th>\n",
       "      <th>SibSp</th>\n",
       "      <th>Parch</th>\n",
       "      <th>Ticket</th>\n",
       "      <th>Fare</th>\n",
       "      <th>Cabin</th>\n",
       "      <th>Embarked</th>\n",
       "      <th>Survived</th>\n",
       "    </tr>\n",
       "  </thead>\n",
       "  <tbody>\n",
       "    <tr>\n",
       "      <th>255</th>\n",
       "      <td>Cardeza, Mrs. James Warburton Martinez</td>\n",
       "      <td>female</td>\n",
       "      <td>58.0</td>\n",
       "      <td>1</td>\n",
       "      <td>0</td>\n",
       "      <td>1</td>\n",
       "      <td>PC 17755</td>\n",
       "      <td>512.3292</td>\n",
       "      <td>B51 B53 B55</td>\n",
       "      <td>C</td>\n",
       "      <td>1</td>\n",
       "    </tr>\n",
       "    <tr>\n",
       "      <th>272</th>\n",
       "      <td>Lesurer, Mr. Gustave J</td>\n",
       "      <td>male</td>\n",
       "      <td>35.0</td>\n",
       "      <td>1</td>\n",
       "      <td>0</td>\n",
       "      <td>0</td>\n",
       "      <td>PC 17755</td>\n",
       "      <td>512.3292</td>\n",
       "      <td>B101</td>\n",
       "      <td>C</td>\n",
       "      <td>1</td>\n",
       "    </tr>\n",
       "    <tr>\n",
       "      <th>543</th>\n",
       "      <td>Cardeza, Mr. Thomas Drake Martinez</td>\n",
       "      <td>male</td>\n",
       "      <td>36.0</td>\n",
       "      <td>1</td>\n",
       "      <td>0</td>\n",
       "      <td>1</td>\n",
       "      <td>PC 17755</td>\n",
       "      <td>512.3292</td>\n",
       "      <td>B51 B53 B55</td>\n",
       "      <td>C</td>\n",
       "      <td>1</td>\n",
       "    </tr>\n",
       "    <tr>\n",
       "      <th>1152</th>\n",
       "      <td>Ward, Miss. Anna</td>\n",
       "      <td>female</td>\n",
       "      <td>35.0</td>\n",
       "      <td>1</td>\n",
       "      <td>0</td>\n",
       "      <td>0</td>\n",
       "      <td>PC 17755</td>\n",
       "      <td>512.3292</td>\n",
       "      <td>NaN</td>\n",
       "      <td>C</td>\n",
       "      <td>1</td>\n",
       "    </tr>\n",
       "  </tbody>\n",
       "</table>\n",
       "</div>"
      ],
      "text/plain": [
       "                                        Name     Sex   Age  Pclass  SibSp  \\\n",
       "255   Cardeza, Mrs. James Warburton Martinez  female  58.0       1      0   \n",
       "272                   Lesurer, Mr. Gustave J    male  35.0       1      0   \n",
       "543       Cardeza, Mr. Thomas Drake Martinez    male  36.0       1      0   \n",
       "1152                        Ward, Miss. Anna  female  35.0       1      0   \n",
       "\n",
       "      Parch    Ticket      Fare        Cabin Embarked  Survived  \n",
       "255       1  PC 17755  512.3292  B51 B53 B55        C         1  \n",
       "272       0  PC 17755  512.3292         B101        C         1  \n",
       "543       1  PC 17755  512.3292  B51 B53 B55        C         1  \n",
       "1152      0  PC 17755  512.3292          NaN        C         1  "
      ]
     },
     "execution_count": 17,
     "metadata": {},
     "output_type": "execute_result"
    }
   ],
   "source": [
    "df[df.Fare == df.Fare.max()]"
   ]
  },
  {
   "cell_type": "markdown",
   "id": "8cd3213d",
   "metadata": {},
   "source": [
    "How much did all the passengers pay?"
   ]
  },
  {
   "cell_type": "markdown",
   "id": "23298e92",
   "metadata": {},
   "source": [
    "It would be necessary to check if there is any missing data"
   ]
  },
  {
   "cell_type": "code",
   "execution_count": 18,
   "id": "34f23023",
   "metadata": {},
   "outputs": [
    {
     "data": {
      "text/plain": [
       "1"
      ]
     },
     "execution_count": 18,
     "metadata": {},
     "output_type": "execute_result"
    }
   ],
   "source": [
    "df.Fare.isna().sum()"
   ]
  },
  {
   "cell_type": "code",
   "execution_count": 19,
   "id": "1795574a",
   "metadata": {},
   "outputs": [
    {
     "data": {
      "text/plain": [
       "43550.4869"
      ]
     },
     "execution_count": 19,
     "metadata": {},
     "output_type": "execute_result"
    }
   ],
   "source": [
    "df.Fare.sum()"
   ]
  },
  {
   "cell_type": "code",
   "execution_count": 20,
   "id": "0fc1844d",
   "metadata": {},
   "outputs": [
    {
     "name": "stdout",
     "output_type": "stream",
     "text": [
      "All passengers but 1 have their ticket fare informed. Their fare sum is ~43600.0\n"
     ]
    }
   ],
   "source": [
    "print(f\"All passengers but {df.Fare.isna().sum()} have their ticket fare informed. Their fare sum is ~{df.Fare.sum().round(-2)}\")"
   ]
  },
  {
   "cell_type": "markdown",
   "id": "238c32ba",
   "metadata": {},
   "source": [
    "Who was the youngest passenger and how old was he/she?"
   ]
  },
  {
   "cell_type": "code",
   "execution_count": 21,
   "id": "8714fab4",
   "metadata": {},
   "outputs": [
    {
     "data": {
      "text/plain": [
       "0.17"
      ]
     },
     "execution_count": 21,
     "metadata": {},
     "output_type": "execute_result"
    }
   ],
   "source": [
    "df.Age.min()"
   ]
  },
  {
   "cell_type": "code",
   "execution_count": 22,
   "id": "e7c9843b",
   "metadata": {},
   "outputs": [
    {
     "data": {
      "text/html": [
       "<div>\n",
       "<style scoped>\n",
       "    .dataframe tbody tr th:only-of-type {\n",
       "        vertical-align: middle;\n",
       "    }\n",
       "\n",
       "    .dataframe tbody tr th {\n",
       "        vertical-align: top;\n",
       "    }\n",
       "\n",
       "    .dataframe thead th {\n",
       "        text-align: right;\n",
       "    }\n",
       "</style>\n",
       "<table border=\"1\" class=\"dataframe\">\n",
       "  <thead>\n",
       "    <tr style=\"text-align: right;\">\n",
       "      <th></th>\n",
       "      <th>Name</th>\n",
       "      <th>Sex</th>\n",
       "      <th>Age</th>\n",
       "      <th>Pclass</th>\n",
       "      <th>SibSp</th>\n",
       "      <th>Parch</th>\n",
       "      <th>Ticket</th>\n",
       "      <th>Fare</th>\n",
       "      <th>Cabin</th>\n",
       "      <th>Embarked</th>\n",
       "      <th>Survived</th>\n",
       "    </tr>\n",
       "  </thead>\n",
       "  <tbody>\n",
       "    <tr>\n",
       "      <th>151</th>\n",
       "      <td>Dean, Miss. Elizabeth Gladys Millvina</td>\n",
       "      <td>female</td>\n",
       "      <td>0.17</td>\n",
       "      <td>3</td>\n",
       "      <td>1</td>\n",
       "      <td>2</td>\n",
       "      <td>C.A. 2315</td>\n",
       "      <td>20.575</td>\n",
       "      <td>NaN</td>\n",
       "      <td>S</td>\n",
       "      <td>1</td>\n",
       "    </tr>\n",
       "  </tbody>\n",
       "</table>\n",
       "</div>"
      ],
      "text/plain": [
       "                                      Name     Sex   Age  Pclass  SibSp  \\\n",
       "151  Dean, Miss. Elizabeth Gladys Millvina  female  0.17       3      1   \n",
       "\n",
       "     Parch     Ticket    Fare Cabin Embarked  Survived  \n",
       "151      2  C.A. 2315  20.575   NaN        S         1  "
      ]
     },
     "execution_count": 22,
     "metadata": {},
     "output_type": "execute_result"
    }
   ],
   "source": [
    "df[df.Age == df.Age.min()]"
   ]
  },
  {
   "cell_type": "code",
   "execution_count": 23,
   "id": "4f155834",
   "metadata": {},
   "outputs": [
    {
     "data": {
      "text/html": [
       "<div>\n",
       "<style scoped>\n",
       "    .dataframe tbody tr th:only-of-type {\n",
       "        vertical-align: middle;\n",
       "    }\n",
       "\n",
       "    .dataframe tbody tr th {\n",
       "        vertical-align: top;\n",
       "    }\n",
       "\n",
       "    .dataframe thead th {\n",
       "        text-align: right;\n",
       "    }\n",
       "</style>\n",
       "<table border=\"1\" class=\"dataframe\">\n",
       "  <thead>\n",
       "    <tr style=\"text-align: right;\">\n",
       "      <th></th>\n",
       "      <th>Name</th>\n",
       "      <th>Sex</th>\n",
       "      <th>Age</th>\n",
       "      <th>Pclass</th>\n",
       "      <th>SibSp</th>\n",
       "      <th>Parch</th>\n",
       "      <th>Ticket</th>\n",
       "      <th>Fare</th>\n",
       "      <th>Cabin</th>\n",
       "      <th>Embarked</th>\n",
       "      <th>Survived</th>\n",
       "    </tr>\n",
       "  </thead>\n",
       "  <tbody>\n",
       "    <tr>\n",
       "      <th>104</th>\n",
       "      <td>Hamalainen, Master. Viljo</td>\n",
       "      <td>male</td>\n",
       "      <td>0.67</td>\n",
       "      <td>2</td>\n",
       "      <td>1</td>\n",
       "      <td>1</td>\n",
       "      <td>250649</td>\n",
       "      <td>14.5000</td>\n",
       "      <td>NaN</td>\n",
       "      <td>S</td>\n",
       "      <td>1</td>\n",
       "    </tr>\n",
       "    <tr>\n",
       "      <th>151</th>\n",
       "      <td>Dean, Miss. Elizabeth Gladys Millvina</td>\n",
       "      <td>female</td>\n",
       "      <td>0.17</td>\n",
       "      <td>3</td>\n",
       "      <td>1</td>\n",
       "      <td>2</td>\n",
       "      <td>C.A. 2315</td>\n",
       "      <td>20.5750</td>\n",
       "      <td>NaN</td>\n",
       "      <td>S</td>\n",
       "      <td>1</td>\n",
       "    </tr>\n",
       "    <tr>\n",
       "      <th>211</th>\n",
       "      <td>Danbom, Master. Gilbert Sigvard Emanuel</td>\n",
       "      <td>male</td>\n",
       "      <td>0.33</td>\n",
       "      <td>3</td>\n",
       "      <td>0</td>\n",
       "      <td>2</td>\n",
       "      <td>347080</td>\n",
       "      <td>14.4000</td>\n",
       "      <td>NaN</td>\n",
       "      <td>S</td>\n",
       "      <td>0</td>\n",
       "    </tr>\n",
       "    <tr>\n",
       "      <th>580</th>\n",
       "      <td>Peacock, Master. Alfred Edward</td>\n",
       "      <td>male</td>\n",
       "      <td>0.75</td>\n",
       "      <td>3</td>\n",
       "      <td>1</td>\n",
       "      <td>1</td>\n",
       "      <td>SOTON/O.Q. 3101315</td>\n",
       "      <td>13.7750</td>\n",
       "      <td>NaN</td>\n",
       "      <td>S</td>\n",
       "      <td>0</td>\n",
       "    </tr>\n",
       "    <tr>\n",
       "      <th>650</th>\n",
       "      <td>Caldwell, Master. Alden Gates</td>\n",
       "      <td>male</td>\n",
       "      <td>0.83</td>\n",
       "      <td>2</td>\n",
       "      <td>0</td>\n",
       "      <td>2</td>\n",
       "      <td>248738</td>\n",
       "      <td>29.0000</td>\n",
       "      <td>NaN</td>\n",
       "      <td>S</td>\n",
       "      <td>1</td>\n",
       "    </tr>\n",
       "    <tr>\n",
       "      <th>675</th>\n",
       "      <td>Thomas, Master. Assad Alexander</td>\n",
       "      <td>male</td>\n",
       "      <td>0.42</td>\n",
       "      <td>3</td>\n",
       "      <td>0</td>\n",
       "      <td>1</td>\n",
       "      <td>2625</td>\n",
       "      <td>8.5167</td>\n",
       "      <td>NaN</td>\n",
       "      <td>C</td>\n",
       "      <td>1</td>\n",
       "    </tr>\n",
       "    <tr>\n",
       "      <th>807</th>\n",
       "      <td>Baclini, Miss. Helene Barbara</td>\n",
       "      <td>female</td>\n",
       "      <td>0.75</td>\n",
       "      <td>3</td>\n",
       "      <td>2</td>\n",
       "      <td>1</td>\n",
       "      <td>2666</td>\n",
       "      <td>19.2583</td>\n",
       "      <td>NaN</td>\n",
       "      <td>C</td>\n",
       "      <td>1</td>\n",
       "    </tr>\n",
       "    <tr>\n",
       "      <th>855</th>\n",
       "      <td>West, Miss. Barbara J</td>\n",
       "      <td>female</td>\n",
       "      <td>0.92</td>\n",
       "      <td>2</td>\n",
       "      <td>1</td>\n",
       "      <td>2</td>\n",
       "      <td>C.A. 34651</td>\n",
       "      <td>27.7500</td>\n",
       "      <td>NaN</td>\n",
       "      <td>S</td>\n",
       "      <td>1</td>\n",
       "    </tr>\n",
       "    <tr>\n",
       "      <th>1015</th>\n",
       "      <td>Allison, Master. Hudson Trevor</td>\n",
       "      <td>male</td>\n",
       "      <td>0.92</td>\n",
       "      <td>1</td>\n",
       "      <td>1</td>\n",
       "      <td>2</td>\n",
       "      <td>113781</td>\n",
       "      <td>151.5500</td>\n",
       "      <td>C22 C26</td>\n",
       "      <td>S</td>\n",
       "      <td>1</td>\n",
       "    </tr>\n",
       "    <tr>\n",
       "      <th>1133</th>\n",
       "      <td>Baclini, Miss. Eugenie</td>\n",
       "      <td>female</td>\n",
       "      <td>0.75</td>\n",
       "      <td>3</td>\n",
       "      <td>2</td>\n",
       "      <td>1</td>\n",
       "      <td>2666</td>\n",
       "      <td>19.2583</td>\n",
       "      <td>NaN</td>\n",
       "      <td>C</td>\n",
       "      <td>1</td>\n",
       "    </tr>\n",
       "    <tr>\n",
       "      <th>1291</th>\n",
       "      <td>Richards, Master. George Sibley</td>\n",
       "      <td>male</td>\n",
       "      <td>0.83</td>\n",
       "      <td>2</td>\n",
       "      <td>1</td>\n",
       "      <td>1</td>\n",
       "      <td>29106</td>\n",
       "      <td>18.7500</td>\n",
       "      <td>NaN</td>\n",
       "      <td>S</td>\n",
       "      <td>1</td>\n",
       "    </tr>\n",
       "    <tr>\n",
       "      <th>1303</th>\n",
       "      <td>Aks, Master. Philip Frank</td>\n",
       "      <td>male</td>\n",
       "      <td>0.83</td>\n",
       "      <td>3</td>\n",
       "      <td>0</td>\n",
       "      <td>1</td>\n",
       "      <td>392091</td>\n",
       "      <td>9.3500</td>\n",
       "      <td>NaN</td>\n",
       "      <td>S</td>\n",
       "      <td>1</td>\n",
       "    </tr>\n",
       "  </tbody>\n",
       "</table>\n",
       "</div>"
      ],
      "text/plain": [
       "                                         Name     Sex   Age  Pclass  SibSp  \\\n",
       "104                 Hamalainen, Master. Viljo    male  0.67       2      1   \n",
       "151     Dean, Miss. Elizabeth Gladys Millvina  female  0.17       3      1   \n",
       "211   Danbom, Master. Gilbert Sigvard Emanuel    male  0.33       3      0   \n",
       "580            Peacock, Master. Alfred Edward    male  0.75       3      1   \n",
       "650             Caldwell, Master. Alden Gates    male  0.83       2      0   \n",
       "675           Thomas, Master. Assad Alexander    male  0.42       3      0   \n",
       "807             Baclini, Miss. Helene Barbara  female  0.75       3      2   \n",
       "855                     West, Miss. Barbara J  female  0.92       2      1   \n",
       "1015           Allison, Master. Hudson Trevor    male  0.92       1      1   \n",
       "1133                   Baclini, Miss. Eugenie  female  0.75       3      2   \n",
       "1291          Richards, Master. George Sibley    male  0.83       2      1   \n",
       "1303                Aks, Master. Philip Frank    male  0.83       3      0   \n",
       "\n",
       "      Parch              Ticket      Fare    Cabin Embarked  Survived  \n",
       "104       1              250649   14.5000      NaN        S         1  \n",
       "151       2           C.A. 2315   20.5750      NaN        S         1  \n",
       "211       2              347080   14.4000      NaN        S         0  \n",
       "580       1  SOTON/O.Q. 3101315   13.7750      NaN        S         0  \n",
       "650       2              248738   29.0000      NaN        S         1  \n",
       "675       1                2625    8.5167      NaN        C         1  \n",
       "807       1                2666   19.2583      NaN        C         1  \n",
       "855       2          C.A. 34651   27.7500      NaN        S         1  \n",
       "1015      2              113781  151.5500  C22 C26        S         1  \n",
       "1133      1                2666   19.2583      NaN        C         1  \n",
       "1291      1               29106   18.7500      NaN        S         1  \n",
       "1303      1              392091    9.3500      NaN        S         1  "
      ]
     },
     "execution_count": 23,
     "metadata": {},
     "output_type": "execute_result"
    }
   ],
   "source": [
    "df[df.Age < 1]"
   ]
  },
  {
   "cell_type": "markdown",
   "id": "f3a61d14",
   "metadata": {},
   "source": [
    "Would it be possible to determine the ratio female to male on the titanic?"
   ]
  },
  {
   "cell_type": "code",
   "execution_count": 24,
   "id": "3d2933cd",
   "metadata": {},
   "outputs": [
    {
     "data": {
      "text/plain": [
       "male      843\n",
       "female    466\n",
       "Name: Sex, dtype: int64"
      ]
     },
     "execution_count": 24,
     "metadata": {},
     "output_type": "execute_result"
    }
   ],
   "source": [
    "df.Sex.value_counts()"
   ]
  },
  {
   "cell_type": "code",
   "execution_count": 25,
   "id": "baf61373",
   "metadata": {},
   "outputs": [
    {
     "data": {
      "text/plain": [
       "1.81"
      ]
     },
     "execution_count": 25,
     "metadata": {},
     "output_type": "execute_result"
    }
   ],
   "source": [
    "(df.Sex.value_counts()[\"male\"] / df.Sex.value_counts()[\"female\"]).round(2)"
   ]
  },
  {
   "cell_type": "markdown",
   "id": "7dbae9f4",
   "metadata": {},
   "source": [
    "How many passengers were under 20? What percentage?"
   ]
  },
  {
   "cell_type": "code",
   "execution_count": 26,
   "id": "f72bff1c",
   "metadata": {},
   "outputs": [
    {
     "data": {
      "text/plain": [
       "225"
      ]
     },
     "execution_count": 26,
     "metadata": {},
     "output_type": "execute_result"
    }
   ],
   "source": [
    "df[df.Age < 20].shape[0]"
   ]
  },
  {
   "cell_type": "code",
   "execution_count": 27,
   "id": "6e6319d2",
   "metadata": {},
   "outputs": [
    {
     "data": {
      "text/plain": [
       "225"
      ]
     },
     "execution_count": 27,
     "metadata": {},
     "output_type": "execute_result"
    }
   ],
   "source": [
    "(df.Age < 20).sum()"
   ]
  },
  {
   "cell_type": "code",
   "execution_count": 28,
   "id": "bf5ddcbf",
   "metadata": {},
   "outputs": [
    {
     "data": {
      "text/plain": [
       "17.188693659281896"
      ]
     },
     "execution_count": 28,
     "metadata": {},
     "output_type": "execute_result"
    }
   ],
   "source": [
    "(df.Age < 20).sum() / df.shape[0] * 100"
   ]
  },
  {
   "cell_type": "markdown",
   "id": "3997be74",
   "metadata": {},
   "source": [
    "What is age decile 9?"
   ]
  },
  {
   "cell_type": "markdown",
   "id": "d32060a0",
   "metadata": {},
   "source": [
    "decile 9 = percentile 90"
   ]
  },
  {
   "cell_type": "code",
   "execution_count": 29,
   "id": "2c444fea",
   "metadata": {},
   "outputs": [
    {
     "data": {
      "text/plain": [
       "50.0"
      ]
     },
     "execution_count": 29,
     "metadata": {},
     "output_type": "execute_result"
    }
   ],
   "source": [
    "df.Age.quantile(0.9)"
   ]
  },
  {
   "cell_type": "markdown",
   "id": "6583564b",
   "metadata": {},
   "source": [
    "How many people survived? How many died?"
   ]
  },
  {
   "cell_type": "code",
   "execution_count": 30,
   "id": "e6cd06f9",
   "metadata": {},
   "outputs": [
    {
     "data": {
      "text/plain": [
       "0    809\n",
       "1    500\n",
       "Name: Survived, dtype: int64"
      ]
     },
     "execution_count": 30,
     "metadata": {},
     "output_type": "execute_result"
    }
   ],
   "source": [
    "df.Survived.value_counts()"
   ]
  },
  {
   "cell_type": "markdown",
   "id": "f80c60a3",
   "metadata": {},
   "source": [
    "How many people were traveling in each class?"
   ]
  },
  {
   "cell_type": "code",
   "execution_count": 31,
   "id": "d83990c8",
   "metadata": {},
   "outputs": [
    {
     "data": {
      "text/plain": [
       "1    323\n",
       "2    277\n",
       "3    709\n",
       "Name: Pclass, dtype: int64"
      ]
     },
     "execution_count": 31,
     "metadata": {},
     "output_type": "execute_result"
    }
   ],
   "source": [
    "df.Pclass.value_counts().sort_index()"
   ]
  },
  {
   "cell_type": "markdown",
   "id": "cada751a",
   "metadata": {},
   "source": [
    "Was it more likely to survive being first class?"
   ]
  },
  {
   "cell_type": "code",
   "execution_count": 32,
   "id": "389b8ec6",
   "metadata": {},
   "outputs": [
    {
     "data": {
      "text/html": [
       "<div>\n",
       "<style scoped>\n",
       "    .dataframe tbody tr th:only-of-type {\n",
       "        vertical-align: middle;\n",
       "    }\n",
       "\n",
       "    .dataframe tbody tr th {\n",
       "        vertical-align: top;\n",
       "    }\n",
       "\n",
       "    .dataframe thead th {\n",
       "        text-align: right;\n",
       "    }\n",
       "</style>\n",
       "<table border=\"1\" class=\"dataframe\">\n",
       "  <thead>\n",
       "    <tr style=\"text-align: right;\">\n",
       "      <th>Survived</th>\n",
       "      <th>0</th>\n",
       "      <th>1</th>\n",
       "    </tr>\n",
       "    <tr>\n",
       "      <th>Pclass</th>\n",
       "      <th></th>\n",
       "      <th></th>\n",
       "    </tr>\n",
       "  </thead>\n",
       "  <tbody>\n",
       "    <tr>\n",
       "      <th>1</th>\n",
       "      <td>0.38</td>\n",
       "      <td>0.62</td>\n",
       "    </tr>\n",
       "    <tr>\n",
       "      <th>2</th>\n",
       "      <td>0.57</td>\n",
       "      <td>0.43</td>\n",
       "    </tr>\n",
       "    <tr>\n",
       "      <th>3</th>\n",
       "      <td>0.74</td>\n",
       "      <td>0.26</td>\n",
       "    </tr>\n",
       "  </tbody>\n",
       "</table>\n",
       "</div>"
      ],
      "text/plain": [
       "Survived     0     1\n",
       "Pclass              \n",
       "1         0.38  0.62\n",
       "2         0.57  0.43\n",
       "3         0.74  0.26"
      ]
     },
     "execution_count": 32,
     "metadata": {},
     "output_type": "execute_result"
    }
   ],
   "source": [
    "pd.crosstab(df.Pclass, df.Survived, normalize=\"index\").round(2)"
   ]
  },
  {
   "cell_type": "markdown",
   "id": "708c9272",
   "metadata": {},
   "source": [
    "or"
   ]
  },
  {
   "cell_type": "code",
   "execution_count": 33,
   "id": "5273125b",
   "metadata": {},
   "outputs": [
    {
     "data": {
      "text/plain": [
       "Pclass\n",
       "1    0.62\n",
       "2    0.43\n",
       "3    0.26\n",
       "Name: Survived, dtype: float64"
      ]
     },
     "execution_count": 33,
     "metadata": {},
     "output_type": "execute_result"
    }
   ],
   "source": [
    "df.groupby('Pclass')['Survived'].mean().round(2)"
   ]
  },
  {
   "cell_type": "markdown",
   "id": "cae705e4",
   "metadata": {},
   "source": [
    "How many family members did people travel with (reported in the SibSp column)?"
   ]
  },
  {
   "cell_type": "code",
   "execution_count": 34,
   "id": "8184f53b",
   "metadata": {},
   "outputs": [
    {
     "data": {
      "text/plain": [
       "0    891\n",
       "1    319\n",
       "2     42\n",
       "3     20\n",
       "4     22\n",
       "5      6\n",
       "8      9\n",
       "Name: SibSp, dtype: int64"
      ]
     },
     "execution_count": 34,
     "metadata": {},
     "output_type": "execute_result"
    }
   ],
   "source": [
    "df.SibSp.value_counts().sort_index()"
   ]
  },
  {
   "cell_type": "markdown",
   "id": "ffac6be0",
   "metadata": {},
   "source": [
    "How many boarding gates were there?"
   ]
  },
  {
   "cell_type": "code",
   "execution_count": 35,
   "id": "8aa7958a",
   "metadata": {},
   "outputs": [
    {
     "data": {
      "text/plain": [
       "3"
      ]
     },
     "execution_count": 35,
     "metadata": {},
     "output_type": "execute_result"
    }
   ],
   "source": [
    "df.Embarked.nunique()"
   ]
  },
  {
   "cell_type": "code",
   "execution_count": 36,
   "id": "94e6db7c",
   "metadata": {},
   "outputs": [
    {
     "data": {
      "text/plain": [
       "array(['S', 'Q', 'C', nan], dtype=object)"
      ]
     },
     "execution_count": 36,
     "metadata": {},
     "output_type": "execute_result"
    }
   ],
   "source": [
    "df.Embarked.unique()"
   ]
  },
  {
   "cell_type": "code",
   "execution_count": 37,
   "id": "8795913d",
   "metadata": {},
   "outputs": [
    {
     "data": {
      "text/plain": [
       "S    914\n",
       "C    270\n",
       "Q    123\n",
       "Name: Embarked, dtype: int64"
      ]
     },
     "execution_count": 37,
     "metadata": {},
     "output_type": "execute_result"
    }
   ],
   "source": [
    "df.Embarked.value_counts()"
   ]
  },
  {
   "cell_type": "markdown",
   "id": "e1532584",
   "metadata": {},
   "source": [
    "Create a dataframe with the people who traveled in first class"
   ]
  },
  {
   "cell_type": "code",
   "execution_count": 38,
   "id": "ba577b70",
   "metadata": {},
   "outputs": [],
   "source": [
    "df_first_class = df[df.Pclass == 1]"
   ]
  },
  {
   "cell_type": "code",
   "execution_count": 39,
   "id": "a6785cfd",
   "metadata": {},
   "outputs": [
    {
     "data": {
      "text/plain": [
       "(323, 11)"
      ]
     },
     "execution_count": 39,
     "metadata": {},
     "output_type": "execute_result"
    }
   ],
   "source": [
    "df_first_class.shape"
   ]
  },
  {
   "cell_type": "code",
   "execution_count": 40,
   "id": "8cadd9a5",
   "metadata": {},
   "outputs": [
    {
     "data": {
      "text/plain": [
       "male      179\n",
       "female    144\n",
       "Name: Sex, dtype: int64"
      ]
     },
     "execution_count": 40,
     "metadata": {},
     "output_type": "execute_result"
    }
   ],
   "source": [
    "df_first_class.Sex.value_counts()"
   ]
  },
  {
   "cell_type": "markdown",
   "id": "cb9ebc50",
   "metadata": {},
   "source": [
    "Creates a dataframe containing women and children"
   ]
  },
  {
   "cell_type": "code",
   "execution_count": 41,
   "id": "c902b328",
   "metadata": {},
   "outputs": [],
   "source": [
    "df_boats = df[(df.Sex == \"female\") | (df.Age < 18)]"
   ]
  },
  {
   "cell_type": "code",
   "execution_count": 42,
   "id": "4de0e3a1",
   "metadata": {},
   "outputs": [
    {
     "data": {
      "text/plain": [
       "1    370\n",
       "0    178\n",
       "Name: Survived, dtype: int64"
      ]
     },
     "execution_count": 42,
     "metadata": {},
     "output_type": "execute_result"
    }
   ],
   "source": [
    "df_boats.Survived.value_counts()"
   ]
  },
  {
   "cell_type": "markdown",
   "id": "f8a1aa3b",
   "metadata": {},
   "source": [
    "Create a dataframe with the people who will not travel on the `S`."
   ]
  },
  {
   "cell_type": "code",
   "execution_count": 44,
   "id": "bba13749",
   "metadata": {},
   "outputs": [],
   "source": [
    "df_not_S = df[~(df.Embarked == \"S\")]"
   ]
  },
  {
   "cell_type": "code",
   "execution_count": 45,
   "id": "e23d49c7",
   "metadata": {},
   "outputs": [
    {
     "data": {
      "text/plain": [
       "(395, 11)"
      ]
     },
     "execution_count": 45,
     "metadata": {},
     "output_type": "execute_result"
    }
   ],
   "source": [
    "df_not_S.shape"
   ]
  },
  {
   "cell_type": "markdown",
   "id": "4e88d1d3",
   "metadata": {},
   "source": [
    "Create a dataframe with all the \"Miss\" passengers"
   ]
  },
  {
   "cell_type": "code",
   "execution_count": 46,
   "id": "8bb615ed",
   "metadata": {},
   "outputs": [
    {
     "data": {
      "text/html": [
       "<div>\n",
       "<style scoped>\n",
       "    .dataframe tbody tr th:only-of-type {\n",
       "        vertical-align: middle;\n",
       "    }\n",
       "\n",
       "    .dataframe tbody tr th {\n",
       "        vertical-align: top;\n",
       "    }\n",
       "\n",
       "    .dataframe thead th {\n",
       "        text-align: right;\n",
       "    }\n",
       "</style>\n",
       "<table border=\"1\" class=\"dataframe\">\n",
       "  <thead>\n",
       "    <tr style=\"text-align: right;\">\n",
       "      <th></th>\n",
       "      <th>Name</th>\n",
       "      <th>Sex</th>\n",
       "      <th>Age</th>\n",
       "      <th>Pclass</th>\n",
       "      <th>SibSp</th>\n",
       "      <th>Parch</th>\n",
       "      <th>Ticket</th>\n",
       "      <th>Fare</th>\n",
       "      <th>Cabin</th>\n",
       "      <th>Embarked</th>\n",
       "      <th>Survived</th>\n",
       "    </tr>\n",
       "  </thead>\n",
       "  <tbody>\n",
       "    <tr>\n",
       "      <th>0</th>\n",
       "      <td>Karaic, Mr. Milan</td>\n",
       "      <td>male</td>\n",
       "      <td>30.0</td>\n",
       "      <td>3</td>\n",
       "      <td>0</td>\n",
       "      <td>0</td>\n",
       "      <td>349246</td>\n",
       "      <td>7.8958</td>\n",
       "      <td>NaN</td>\n",
       "      <td>S</td>\n",
       "      <td>0</td>\n",
       "    </tr>\n",
       "    <tr>\n",
       "      <th>1</th>\n",
       "      <td>Dean, Mrs. Bertram</td>\n",
       "      <td>female</td>\n",
       "      <td>33.0</td>\n",
       "      <td>3</td>\n",
       "      <td>1</td>\n",
       "      <td>2</td>\n",
       "      <td>C.A. 2315</td>\n",
       "      <td>20.5750</td>\n",
       "      <td>NaN</td>\n",
       "      <td>S</td>\n",
       "      <td>1</td>\n",
       "    </tr>\n",
       "    <tr>\n",
       "      <th>2</th>\n",
       "      <td>Rice, Mrs. William</td>\n",
       "      <td>female</td>\n",
       "      <td>39.0</td>\n",
       "      <td>3</td>\n",
       "      <td>0</td>\n",
       "      <td>5</td>\n",
       "      <td>382652</td>\n",
       "      <td>29.1250</td>\n",
       "      <td>NaN</td>\n",
       "      <td>Q</td>\n",
       "      <td>0</td>\n",
       "    </tr>\n",
       "    <tr>\n",
       "      <th>3</th>\n",
       "      <td>Davidson, Mrs. Thornton</td>\n",
       "      <td>female</td>\n",
       "      <td>27.0</td>\n",
       "      <td>1</td>\n",
       "      <td>1</td>\n",
       "      <td>2</td>\n",
       "      <td>F.C. 12750</td>\n",
       "      <td>52.0000</td>\n",
       "      <td>B71</td>\n",
       "      <td>S</td>\n",
       "      <td>1</td>\n",
       "    </tr>\n",
       "    <tr>\n",
       "      <th>4</th>\n",
       "      <td>Ridsdale, Miss. Lucy</td>\n",
       "      <td>female</td>\n",
       "      <td>50.0</td>\n",
       "      <td>2</td>\n",
       "      <td>0</td>\n",
       "      <td>0</td>\n",
       "      <td>W./C. 14258</td>\n",
       "      <td>10.5000</td>\n",
       "      <td>NaN</td>\n",
       "      <td>S</td>\n",
       "      <td>1</td>\n",
       "    </tr>\n",
       "  </tbody>\n",
       "</table>\n",
       "</div>"
      ],
      "text/plain": [
       "                      Name     Sex   Age  Pclass  SibSp  Parch       Ticket  \\\n",
       "0        Karaic, Mr. Milan    male  30.0       3      0      0       349246   \n",
       "1       Dean, Mrs. Bertram  female  33.0       3      1      2    C.A. 2315   \n",
       "2       Rice, Mrs. William  female  39.0       3      0      5       382652   \n",
       "3  Davidson, Mrs. Thornton  female  27.0       1      1      2   F.C. 12750   \n",
       "4     Ridsdale, Miss. Lucy  female  50.0       2      0      0  W./C. 14258   \n",
       "\n",
       "      Fare Cabin Embarked  Survived  \n",
       "0   7.8958   NaN        S         0  \n",
       "1  20.5750   NaN        S         1  \n",
       "2  29.1250   NaN        Q         0  \n",
       "3  52.0000   B71        S         1  \n",
       "4  10.5000   NaN        S         1  "
      ]
     },
     "execution_count": 46,
     "metadata": {},
     "output_type": "execute_result"
    }
   ],
   "source": [
    "df.head()"
   ]
  },
  {
   "cell_type": "code",
   "execution_count": 47,
   "id": "987c1d4c",
   "metadata": {},
   "outputs": [],
   "source": [
    "sentence = \"my name is Manuel\""
   ]
  },
  {
   "cell_type": "code",
   "execution_count": 49,
   "id": "17ebaa4e",
   "metadata": {},
   "outputs": [
    {
     "data": {
      "text/plain": [
       "['my n', 'me is M', 'nuel']"
      ]
     },
     "execution_count": 49,
     "metadata": {},
     "output_type": "execute_result"
    }
   ],
   "source": [
    "sentence.split(\"a\")"
   ]
  },
  {
   "cell_type": "code",
   "execution_count": 61,
   "id": "9df809d4",
   "metadata": {},
   "outputs": [],
   "source": [
    "df[\"title\"] = df.Name.str.split(\", \").str[1].str.split(\".\").str[0]"
   ]
  },
  {
   "cell_type": "code",
   "execution_count": 63,
   "id": "ca49f95d",
   "metadata": {},
   "outputs": [
    {
     "data": {
      "text/plain": [
       "Mr              757\n",
       "Miss            260\n",
       "Mrs             197\n",
       "Master           61\n",
       "Dr                8\n",
       "Rev               8\n",
       "Col               4\n",
       "Ms                2\n",
       "Mlle              2\n",
       "Major             2\n",
       "Capt              1\n",
       "Dona              1\n",
       "Jonkheer          1\n",
       "Lady              1\n",
       "Mme               1\n",
       "Don               1\n",
       "Sir               1\n",
       "the Countess      1\n",
       "Name: title, dtype: int64"
      ]
     },
     "execution_count": 63,
     "metadata": {},
     "output_type": "execute_result"
    }
   ],
   "source": [
    "df.title.value_counts()"
   ]
  },
  {
   "cell_type": "markdown",
   "id": "1529b7b2",
   "metadata": {},
   "source": [
    "Create a Boolean column that stores whether the passenger is over 21 or not"
   ]
  },
  {
   "cell_type": "code",
   "execution_count": 65,
   "id": "db57f6c6",
   "metadata": {},
   "outputs": [],
   "source": [
    "df[\"is_big\"] = df.Age >= 21"
   ]
  },
  {
   "cell_type": "code",
   "execution_count": 66,
   "id": "5c3966d4",
   "metadata": {},
   "outputs": [
    {
     "data": {
      "text/html": [
       "<div>\n",
       "<style scoped>\n",
       "    .dataframe tbody tr th:only-of-type {\n",
       "        vertical-align: middle;\n",
       "    }\n",
       "\n",
       "    .dataframe tbody tr th {\n",
       "        vertical-align: top;\n",
       "    }\n",
       "\n",
       "    .dataframe thead th {\n",
       "        text-align: right;\n",
       "    }\n",
       "</style>\n",
       "<table border=\"1\" class=\"dataframe\">\n",
       "  <thead>\n",
       "    <tr style=\"text-align: right;\">\n",
       "      <th></th>\n",
       "      <th>Name</th>\n",
       "      <th>Sex</th>\n",
       "      <th>Age</th>\n",
       "      <th>Pclass</th>\n",
       "      <th>SibSp</th>\n",
       "      <th>Parch</th>\n",
       "      <th>Ticket</th>\n",
       "      <th>Fare</th>\n",
       "      <th>Cabin</th>\n",
       "      <th>Embarked</th>\n",
       "      <th>Survived</th>\n",
       "      <th>title</th>\n",
       "      <th>is_big</th>\n",
       "    </tr>\n",
       "  </thead>\n",
       "  <tbody>\n",
       "    <tr>\n",
       "      <th>0</th>\n",
       "      <td>Karaic, Mr. Milan</td>\n",
       "      <td>male</td>\n",
       "      <td>30.0</td>\n",
       "      <td>3</td>\n",
       "      <td>0</td>\n",
       "      <td>0</td>\n",
       "      <td>349246</td>\n",
       "      <td>7.8958</td>\n",
       "      <td>NaN</td>\n",
       "      <td>S</td>\n",
       "      <td>0</td>\n",
       "      <td>Mr</td>\n",
       "      <td>True</td>\n",
       "    </tr>\n",
       "    <tr>\n",
       "      <th>1</th>\n",
       "      <td>Dean, Mrs. Bertram</td>\n",
       "      <td>female</td>\n",
       "      <td>33.0</td>\n",
       "      <td>3</td>\n",
       "      <td>1</td>\n",
       "      <td>2</td>\n",
       "      <td>C.A. 2315</td>\n",
       "      <td>20.5750</td>\n",
       "      <td>NaN</td>\n",
       "      <td>S</td>\n",
       "      <td>1</td>\n",
       "      <td>Mrs</td>\n",
       "      <td>True</td>\n",
       "    </tr>\n",
       "    <tr>\n",
       "      <th>2</th>\n",
       "      <td>Rice, Mrs. William</td>\n",
       "      <td>female</td>\n",
       "      <td>39.0</td>\n",
       "      <td>3</td>\n",
       "      <td>0</td>\n",
       "      <td>5</td>\n",
       "      <td>382652</td>\n",
       "      <td>29.1250</td>\n",
       "      <td>NaN</td>\n",
       "      <td>Q</td>\n",
       "      <td>0</td>\n",
       "      <td>Mrs</td>\n",
       "      <td>True</td>\n",
       "    </tr>\n",
       "    <tr>\n",
       "      <th>3</th>\n",
       "      <td>Davidson, Mrs. Thornton</td>\n",
       "      <td>female</td>\n",
       "      <td>27.0</td>\n",
       "      <td>1</td>\n",
       "      <td>1</td>\n",
       "      <td>2</td>\n",
       "      <td>F.C. 12750</td>\n",
       "      <td>52.0000</td>\n",
       "      <td>B71</td>\n",
       "      <td>S</td>\n",
       "      <td>1</td>\n",
       "      <td>Mrs</td>\n",
       "      <td>True</td>\n",
       "    </tr>\n",
       "    <tr>\n",
       "      <th>4</th>\n",
       "      <td>Ridsdale, Miss. Lucy</td>\n",
       "      <td>female</td>\n",
       "      <td>50.0</td>\n",
       "      <td>2</td>\n",
       "      <td>0</td>\n",
       "      <td>0</td>\n",
       "      <td>W./C. 14258</td>\n",
       "      <td>10.5000</td>\n",
       "      <td>NaN</td>\n",
       "      <td>S</td>\n",
       "      <td>1</td>\n",
       "      <td>Miss</td>\n",
       "      <td>True</td>\n",
       "    </tr>\n",
       "    <tr>\n",
       "      <th>...</th>\n",
       "      <td>...</td>\n",
       "      <td>...</td>\n",
       "      <td>...</td>\n",
       "      <td>...</td>\n",
       "      <td>...</td>\n",
       "      <td>...</td>\n",
       "      <td>...</td>\n",
       "      <td>...</td>\n",
       "      <td>...</td>\n",
       "      <td>...</td>\n",
       "      <td>...</td>\n",
       "      <td>...</td>\n",
       "      <td>...</td>\n",
       "    </tr>\n",
       "    <tr>\n",
       "      <th>1304</th>\n",
       "      <td>Strilic, Mr. Ivan</td>\n",
       "      <td>male</td>\n",
       "      <td>27.0</td>\n",
       "      <td>3</td>\n",
       "      <td>0</td>\n",
       "      <td>0</td>\n",
       "      <td>315083</td>\n",
       "      <td>8.6625</td>\n",
       "      <td>NaN</td>\n",
       "      <td>S</td>\n",
       "      <td>0</td>\n",
       "      <td>Mr</td>\n",
       "      <td>True</td>\n",
       "    </tr>\n",
       "    <tr>\n",
       "      <th>1305</th>\n",
       "      <td>Bengtsson, Mr. John Viktor</td>\n",
       "      <td>male</td>\n",
       "      <td>26.0</td>\n",
       "      <td>3</td>\n",
       "      <td>0</td>\n",
       "      <td>0</td>\n",
       "      <td>347068</td>\n",
       "      <td>7.7750</td>\n",
       "      <td>NaN</td>\n",
       "      <td>S</td>\n",
       "      <td>0</td>\n",
       "      <td>Mr</td>\n",
       "      <td>True</td>\n",
       "    </tr>\n",
       "    <tr>\n",
       "      <th>1306</th>\n",
       "      <td>Gustafsson, Mr. Karl Gideon</td>\n",
       "      <td>male</td>\n",
       "      <td>19.0</td>\n",
       "      <td>3</td>\n",
       "      <td>0</td>\n",
       "      <td>0</td>\n",
       "      <td>347069</td>\n",
       "      <td>7.7750</td>\n",
       "      <td>NaN</td>\n",
       "      <td>S</td>\n",
       "      <td>0</td>\n",
       "      <td>Mr</td>\n",
       "      <td>False</td>\n",
       "    </tr>\n",
       "    <tr>\n",
       "      <th>1307</th>\n",
       "      <td>Gustafsson, Mr. Anders Vilhelm</td>\n",
       "      <td>male</td>\n",
       "      <td>37.0</td>\n",
       "      <td>3</td>\n",
       "      <td>2</td>\n",
       "      <td>0</td>\n",
       "      <td>3101276</td>\n",
       "      <td>7.9250</td>\n",
       "      <td>NaN</td>\n",
       "      <td>S</td>\n",
       "      <td>0</td>\n",
       "      <td>Mr</td>\n",
       "      <td>True</td>\n",
       "    </tr>\n",
       "    <tr>\n",
       "      <th>1308</th>\n",
       "      <td>McDermott, Miss. Brigdet Delia</td>\n",
       "      <td>female</td>\n",
       "      <td>NaN</td>\n",
       "      <td>3</td>\n",
       "      <td>0</td>\n",
       "      <td>0</td>\n",
       "      <td>330932</td>\n",
       "      <td>7.7875</td>\n",
       "      <td>NaN</td>\n",
       "      <td>Q</td>\n",
       "      <td>1</td>\n",
       "      <td>Miss</td>\n",
       "      <td>False</td>\n",
       "    </tr>\n",
       "  </tbody>\n",
       "</table>\n",
       "<p>1309 rows × 13 columns</p>\n",
       "</div>"
      ],
      "text/plain": [
       "                                Name     Sex   Age  Pclass  SibSp  Parch  \\\n",
       "0                  Karaic, Mr. Milan    male  30.0       3      0      0   \n",
       "1                 Dean, Mrs. Bertram  female  33.0       3      1      2   \n",
       "2                 Rice, Mrs. William  female  39.0       3      0      5   \n",
       "3            Davidson, Mrs. Thornton  female  27.0       1      1      2   \n",
       "4               Ridsdale, Miss. Lucy  female  50.0       2      0      0   \n",
       "...                              ...     ...   ...     ...    ...    ...   \n",
       "1304               Strilic, Mr. Ivan    male  27.0       3      0      0   \n",
       "1305      Bengtsson, Mr. John Viktor    male  26.0       3      0      0   \n",
       "1306     Gustafsson, Mr. Karl Gideon    male  19.0       3      0      0   \n",
       "1307  Gustafsson, Mr. Anders Vilhelm    male  37.0       3      2      0   \n",
       "1308  McDermott, Miss. Brigdet Delia  female   NaN       3      0      0   \n",
       "\n",
       "           Ticket     Fare Cabin Embarked  Survived title  is_big  \n",
       "0          349246   7.8958   NaN        S         0    Mr    True  \n",
       "1       C.A. 2315  20.5750   NaN        S         1   Mrs    True  \n",
       "2          382652  29.1250   NaN        Q         0   Mrs    True  \n",
       "3      F.C. 12750  52.0000   B71        S         1   Mrs    True  \n",
       "4     W./C. 14258  10.5000   NaN        S         1  Miss    True  \n",
       "...           ...      ...   ...      ...       ...   ...     ...  \n",
       "1304       315083   8.6625   NaN        S         0    Mr    True  \n",
       "1305       347068   7.7750   NaN        S         0    Mr    True  \n",
       "1306       347069   7.7750   NaN        S         0    Mr   False  \n",
       "1307      3101276   7.9250   NaN        S         0    Mr    True  \n",
       "1308       330932   7.7875   NaN        Q         1  Miss   False  \n",
       "\n",
       "[1309 rows x 13 columns]"
      ]
     },
     "execution_count": 66,
     "metadata": {},
     "output_type": "execute_result"
    }
   ],
   "source": [
    "df"
   ]
  },
  {
   "cell_type": "markdown",
   "id": "75e54852",
   "metadata": {},
   "source": [
    "Create a column with the passenger's birth year"
   ]
  },
  {
   "cell_type": "code",
   "execution_count": null,
   "id": "fa055d75",
   "metadata": {},
   "outputs": [],
   "source": []
  },
  {
   "cell_type": "markdown",
   "id": "c568f43a",
   "metadata": {},
   "source": [
    "Were first class tickets more expensive?"
   ]
  },
  {
   "cell_type": "code",
   "execution_count": null,
   "id": "00cd0bc2",
   "metadata": {},
   "outputs": [],
   "source": []
  },
  {
   "cell_type": "markdown",
   "id": "2505f4c8",
   "metadata": {},
   "source": [
    "Were the men younger than the women on the Titanic?"
   ]
  },
  {
   "cell_type": "code",
   "execution_count": null,
   "id": "830c29ed",
   "metadata": {},
   "outputs": [],
   "source": []
  },
  {
   "cell_type": "markdown",
   "id": "56cb3ab9",
   "metadata": {},
   "source": [
    "Did the number of relatives affect the probability of survival?"
   ]
  },
  {
   "cell_type": "code",
   "execution_count": null,
   "id": "38fd4f57",
   "metadata": {},
   "outputs": [],
   "source": []
  },
  {
   "cell_type": "markdown",
   "id": "33a4161c",
   "metadata": {},
   "source": [
    "Create a column that stores whether the passenger's ticket number contains any letters. Define a function for this and use `apply`."
   ]
  },
  {
   "cell_type": "code",
   "execution_count": null,
   "id": "a1b0f14a",
   "metadata": {},
   "outputs": [],
   "source": []
  },
  {
   "cell_type": "markdown",
   "id": "47d53129",
   "metadata": {},
   "source": [
    "Export the data to a csv named `titanic_enriched.csv`."
   ]
  },
  {
   "cell_type": "code",
   "execution_count": null,
   "id": "788d3b00",
   "metadata": {},
   "outputs": [],
   "source": []
  }
 ],
 "metadata": {
  "kernelspec": {
   "display_name": "Python 3 (ipykernel)",
   "language": "python",
   "name": "python3"
  },
  "language_info": {
   "codemirror_mode": {
    "name": "ipython",
    "version": 3
   },
   "file_extension": ".py",
   "mimetype": "text/x-python",
   "name": "python",
   "nbconvert_exporter": "python",
   "pygments_lexer": "ipython3",
   "version": "3.10.6"
  },
  "toc": {
   "base_numbering": 1,
   "nav_menu": {},
   "number_sections": true,
   "sideBar": true,
   "skip_h1_title": true,
   "title_cell": "Table of Contents",
   "title_sidebar": "Contents",
   "toc_cell": false,
   "toc_position": {
    "height": "calc(100% - 180px)",
    "left": "10px",
    "top": "150px",
    "width": "370px"
   },
   "toc_section_display": true,
   "toc_window_display": false
  },
  "varInspector": {
   "cols": {
    "lenName": 16,
    "lenType": 16,
    "lenVar": 40
   },
   "kernels_config": {
    "python": {
     "delete_cmd_postfix": "",
     "delete_cmd_prefix": "del ",
     "library": "var_list.py",
     "varRefreshCmd": "print(var_dic_list())"
    },
    "r": {
     "delete_cmd_postfix": ") ",
     "delete_cmd_prefix": "rm(",
     "library": "var_list.r",
     "varRefreshCmd": "cat(var_dic_list()) "
    }
   },
   "types_to_exclude": [
    "module",
    "function",
    "builtin_function_or_method",
    "instance",
    "_Feature"
   ],
   "window_display": false
  }
 },
 "nbformat": 4,
 "nbformat_minor": 5
}
