{
 "cells": [
  {
   "cell_type": "markdown",
   "id": "18e1c76e",
   "metadata": {},
   "source": [
    "<center><h1>Proyecto final</h1></center>\n",
    "<center><h3>IBM SkillsBuild Europa - Análisis de datos</h3></center>"
   ]
  },
  {
   "cell_type": "markdown",
   "id": "ccdda504",
   "metadata": {},
   "source": [
    "# Requisitos\n",
    "\n",
    "\n",
    "\n",
    "* Conocimientos de Python, Power BI o Tableau.\n",
    "* Comprensión de la limpieza de datos.\n",
    "* Comprensión de la visualización de datos."
   ]
  },
  {
   "cell_type": "markdown",
   "id": "1dd097a8",
   "metadata": {},
   "source": [
    "### Análisis de datos de Airbnb:\n",
    "\n",
    "\n",
    "\n",
    "#### Objetivo:\n",
    "\n",
    "\n",
    "\n",
    "En este ejercicio, practicarás el análisis de datos sobre un conjunto de datos abiertos procedentes de Airbnb. Algunas de las tareas incluyen:\n",
    "\n",
    "- limpieza de datos,\n",
    "- transformación de datos y\n",
    "- visualización de datos.\n",
    "\n",
    "\n",
    "\n",
    "#### Resumen sobre los datos de Airbnb:\n",
    "\n",
    "\n",
    "\n",
    "Los criterios principales de la gente cuando visita lugares nuevos son contar con alojamiento y comida a precios razonables. Airbnb (Air-Bed-Breakfast) es un mercado en línea creado para satisfacer esta necesidad, pues permite a la gente alquilar sus casas durante plazos cortos. Estos servicios se ofrecen a un precio relativamente inferior al de los hoteles y en diversas ubicaciones geográficas. Además, personas de todo el mundo prefieren el servicio hogareño y económico.\n",
    "\n",
    "\n",
    "\n",
    "#### Fuente de los datos\n",
    "\n",
    "\n",
    "\n",
    "Puedes obtener el <i>dataset</i> para realizar este proyecto en el siguiente enlace: https://www.kaggle.com/datasets/arianazmoudeh/airbnbopendata\n",
    "\n",
    "\n",
    "\n",
    "Este <i>dataset</i> contiene información sobre los alojamientos, tal como el barrio, el tipo de habitación, el precio, la disponibilidad, las opiniones, los gastos de servicio, la política de cancelación y las normas de uso de la casa.\n",
    "\n",
    "\n",
    "\n",
    "¡Te deseamos lo mejor en tu análisis de los datos de Airbnb!"
   ]
  },
  {
   "cell_type": "markdown",
   "id": "e2f2c69a",
   "metadata": {},
   "source": [
    "## Tarea 1: Carga de datos (Python)\n",
    "\n",
    "\n",
    "\n",
    "1. Lee el fichero csv y cárgarlo en un <i>dataframe</i> de pandas.\n",
    "2. Visualiza las cinco primeras filas de tu <i>dataframe</i>.\n",
    "3. Visualize los tipos de datos de las columnas."
   ]
  },
  {
   "cell_type": "code",
   "execution_count": null,
   "id": "0d091e4a",
   "metadata": {},
   "outputs": [],
   "source": [
    "## Lee el fichero csv.\n"
   ]
  },
  {
   "cell_type": "code",
   "execution_count": null,
   "id": "6a9ce2dd",
   "metadata": {},
   "outputs": [],
   "source": [
    "## Muestra las primeras 5 filas.\n"
   ]
  },
  {
   "cell_type": "code",
   "execution_count": null,
   "id": "72f6c8ea",
   "metadata": {},
   "outputs": [],
   "source": [
    "## Muestra los tipos de datos.\n"
   ]
  },
  {
   "cell_type": "markdown",
   "id": "82501259",
   "metadata": {},
   "source": [
    "## Tarea 2a: Limpieza de datos (cualquier herramienta)\n",
    "\n",
    "\n",
    "1. Elimina las columnas no deseadas del <i>dataframe</i>, entre ellas se incluyen `host id`, `id`, `country` y `country code`.\n",
    "2. Indica la razón por la cual se han eliminado estas columnas para tu análisis de datos.\n",
    "\n",
    "\n",
    "Si utilizas Python para este ejercicio, incluye el código que hayas utilizado en las celdas siguientes. Si utilizas cualquier otra herramienta, incluye capturas de pantalla tomadas antes y después de eliminar las columnas."
   ]
  },
  {
   "cell_type": "code",
   "execution_count": null,
   "id": "cd9eb264",
   "metadata": {},
   "outputs": [],
   "source": []
  },
  {
   "cell_type": "code",
   "execution_count": null,
   "id": "6d2ebaa0",
   "metadata": {},
   "outputs": [],
   "source": []
  },
  {
   "cell_type": "code",
   "execution_count": null,
   "id": "a7ee6f26",
   "metadata": {},
   "outputs": [],
   "source": []
  },
  {
   "cell_type": "markdown",
   "id": "2df5ef37",
   "metadata": {},
   "source": [
    "## Tarea 2b: Limpieza de datos (Python)\n",
    "\n",
    "\n",
    "- Compueba si hay valores nulos y muestra el recuento en orden ascendente. **Si faltan valores, imputa los valores como consideres.**\n",
    "- Comprueba si hay valores duplicados y elimínalos.\n",
    "- Muestra el número total de registros antes y después de eliminar los duplicados."
   ]
  },
  {
   "cell_type": "code",
   "execution_count": null,
   "id": "efaa1a96",
   "metadata": {},
   "outputs": [],
   "source": [
    "## Comprueba si hay valores nulos y muestra el recuento en orden ascendente.\n",
    "\n",
    "\n",
    "\n"
   ]
  },
  {
   "cell_type": "code",
   "execution_count": null,
   "id": "efece320",
   "metadata": {},
   "outputs": [],
   "source": [
    "## Comprueba si hay valores duplicados y elimínalos.\n",
    "\n",
    "\n",
    "\n"
   ]
  },
  {
   "cell_type": "code",
   "execution_count": null,
   "id": "b34002a8",
   "metadata": {},
   "outputs": [],
   "source": [
    "## Muestra el número total de registros antes y después de eliminar los duplicados.\n",
    "\n",
    "\n",
    "\n"
   ]
  },
  {
   "cell_type": "markdown",
   "id": "ee1a7d1b",
   "metadata": {},
   "source": [
    "## Tarea 3: Transformación de datos (cualquier herramienta)\n",
    "\n",
    "\n",
    "\n",
    "\n",
    "\n",
    "- Cambia el nombre de la columna `availability 365` a `days_booked`.\n",
    "- Convierte todos los nombres de columna a minúsculas y sustituye los espacios en los nombres de columna por un guión bajo \"_\".\n",
    "- Elimina el signo de dólares y la coma de las columnas `price` y `service_fee`. Si es necesario, convierte estas dos columnas al tipo de datos adecuado.\n",
    "\n",
    "\n",
    "\n",
    "Si utilizas Python para este ejercicio, incluye el código que hayas utilizado en las celdas siguientes. Si utilizas cualquier otra herramienta, incluye capturas de pantalla de tu trabajo."
   ]
  },
  {
   "cell_type": "code",
   "execution_count": null,
   "id": "5c05e080",
   "metadata": {},
   "outputs": [],
   "source": [
    "## Cambia el nombre de la columna.\n",
    "\n",
    "\n",
    "\n",
    "\n",
    "\n",
    "\n",
    "\n",
    "\n"
   ]
  },
  {
   "cell_type": "code",
   "execution_count": null,
   "id": "67d8624e",
   "metadata": {},
   "outputs": [],
   "source": [
    "## Convierte todos los nombres de columna a minúsculas y sustituye los espacios por un guión bajo \"_\".\n",
    "\n",
    "\n",
    "\n",
    "\n",
    "\n",
    "\n"
   ]
  },
  {
   "cell_type": "code",
   "execution_count": null,
   "id": "5a31b6db",
   "metadata": {},
   "outputs": [],
   "source": [
    "## Elimina el signo de dólares y la coma de las columnas. Si es necesario, convierte estas dos columnas al tipo de datos adecuado.\n",
    "\n",
    "\n",
    "\n",
    "\n",
    "\n"
   ]
  },
  {
   "cell_type": "markdown",
   "id": "43c3fe11",
   "metadata": {},
   "source": [
    "### Tarea 4: Análisis exploratorio de datos (cualquier herramienta)\n",
    "\n",
    "\n",
    "\n",
    "- Enumera los tipos de habitaciones disponibles en el <i>dataset</i>.\n",
    "- ¿Qué tipo de habitación tiene la política de cancelación más estricta?\n",
    "- Enumera el precio medio por barrio y señala cuál es el conjunto de barrios más caro para alquilar.\n",
    "\n",
    "\n",
    "\n",
    "Si utilizas Python para este ejercicio, incluye el código que hayas utilizado en las celdas siguientes. Si utilizas cualquier otra herramienta, incluye capturas de pantalla de tu trabajo."
   ]
  },
  {
   "cell_type": "code",
   "execution_count": null,
   "id": "6a7b7856",
   "metadata": {},
   "outputs": [],
   "source": [
    "## Enumera los tipos de habitaciones disponibles en Airbnb.\n"
   ]
  },
  {
   "cell_type": "code",
   "execution_count": null,
   "id": "af7def65",
   "metadata": {},
   "outputs": [],
   "source": [
    "## ¿Qué tipo de habitación se adhiere a una política de cancelación más estricta?\n"
   ]
  },
  {
   "cell_type": "code",
   "execution_count": null,
   "id": "97c2a1d7",
   "metadata": {},
   "outputs": [],
   "source": [
    "## Enumera los precios por barrio y menciona también cuál es el grupo de barrios con alquileres más caros.\n"
   ]
  },
  {
   "cell_type": "markdown",
   "id": "a0a5a269",
   "metadata": {},
   "source": [
    "## Tarea 5a: Visualización de datos (cualquier herramienta)\n",
    "\n",
    "\n",
    "\n",
    "- Crea un gráfico de barras horizontales para mostrar los 10 barrios más caros del conjunto de datos.\n",
    "    - Crea otro gráfico con los 10 barrios más baratos del conjunto de datos.\n",
    "- Crea un gráfico de caja que muestre la distribución de precios de todos los anuncios dividida por tipo de habitación.\n",
    "\n",
    "\n",
    "Si utilizas Python para este ejercicio, incluye el código que hayas utilizado en las celdas siguientes. Si utilizas cualquier otra herramienta, incluye capturas de pantalla de tu trabajo."
   ]
  },
  {
   "cell_type": "code",
   "execution_count": null,
   "id": "0ac35afb",
   "metadata": {},
   "outputs": [],
   "source": []
  },
  {
   "cell_type": "code",
   "execution_count": null,
   "id": "9626141a",
   "metadata": {},
   "outputs": [],
   "source": []
  },
  {
   "cell_type": "code",
   "execution_count": null,
   "id": "903c49b8",
   "metadata": {},
   "outputs": [],
   "source": []
  },
  {
   "cell_type": "code",
   "execution_count": null,
   "id": "dbfaec6a",
   "metadata": {},
   "outputs": [],
   "source": []
  },
  {
   "cell_type": "markdown",
   "id": "1f5c2b03",
   "metadata": {},
   "source": [
    "## Tarea 5b: Visualización de datos (cualquier herramienta)\n",
    "\n",
    "\n",
    "\n",
    "- Crea un gráfico de dispersión para ilustrar la relación entre la tarifa de limpieza y el precio de la habitación y escribe el tipo de correlación que observas, si la hay.\n",
    "- Crea un gráfico de líneas para mostrar la cantidad total de lugares disponibles al año.\n",
    "\n",
    "\n",
    "\n",
    "Si utilizas Python para este ejercicio, incluye el código en las celdas siguientes. Si utilizas cualquier otra herramienta, incluye capturas de pantalla de tu trabajo."
   ]
  },
  {
   "cell_type": "code",
   "execution_count": null,
   "id": "bea52712",
   "metadata": {},
   "outputs": [],
   "source": []
  },
  {
   "cell_type": "code",
   "execution_count": null,
   "id": "ce5cbf39",
   "metadata": {},
   "outputs": [],
   "source": []
  },
  {
   "cell_type": "markdown",
   "id": "3b3d8330",
   "metadata": {},
   "source": [
    "## Tarea 5c: Visualización de datos (cualquier herramienta)\n",
    "\n",
    "\n",
    "\n",
    "- Crea una visualización de datos de tu elección utilizando una de las columnas de reseñas, de forma aislada o en combinación con otra columna.\n",
    "- Crea una visualización para comparar, al menos, dos variables diferentes entre superanfitriones y anfitriones normales.\n",
    "\n",
    "\n",
    "Si utilizas Python para este ejercicio, incluye el código que hayas utilizado en las celdas siguientes. Si utilizas cualquier otra herramienta, incluye capturas de pantalla de tu trabajo."
   ]
  },
  {
   "cell_type": "code",
   "execution_count": null,
   "id": "17664a4e",
   "metadata": {},
   "outputs": [],
   "source": []
  },
  {
   "cell_type": "code",
   "execution_count": null,
   "id": "471f02c2",
   "metadata": {},
   "outputs": [],
   "source": []
  },
  {
   "cell_type": "code",
   "execution_count": null,
   "id": "53ef891d",
   "metadata": {},
   "outputs": [],
   "source": []
  }
 ],
 "metadata": {
  "kernelspec": {
   "display_name": "Python 3 (ipykernel)",
   "language": "python",
   "name": "python3"
  },
  "language_info": {
   "codemirror_mode": {
    "name": "ipython",
    "version": 3
   },
   "file_extension": ".py",
   "mimetype": "text/x-python",
   "name": "python",
   "nbconvert_exporter": "python",
   "pygments_lexer": "ipython3",
   "version": "3.9.13"
  },
  "nteract": {
   "version": "0.28.0"
  },
  "toc": {
   "base_numbering": 1,
   "nav_menu": {},
   "number_sections": false,
   "sideBar": true,
   "skip_h1_title": true,
   "title_cell": "Table of Contents",
   "title_sidebar": "Contents",
   "toc_cell": false,
   "toc_position": {},
   "toc_section_display": true,
   "toc_window_display": true
  },
  "vscode": {
   "interpreter": {
    "hash": "31f2aee4e71d21fbe5cf8b01ff0e069b9275f58929596ceb00d14d90e3e16cd6"
   }
  }
 },
 "nbformat": 4,
 "nbformat_minor": 5
}
