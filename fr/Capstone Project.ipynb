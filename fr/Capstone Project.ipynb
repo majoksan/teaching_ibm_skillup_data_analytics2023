{
 "cells": [
  {
   "cell_type": "markdown",
   "id": "d5d5278d",
   "metadata": {},
   "source": [
    "<center><h1>Projet final </h1></center>\n",
    "<center><h3>IBM SkillsBuild Europe Delivery - Analyse de données</h3></center>"
   ]
  },
  {
   "cell_type": "markdown",
   "id": "c323dd99",
   "metadata": {},
   "source": [
    "# Pré-requis\n",
    "\n",
    "* Connaissances sur Python, Power BI ou Tableau\n",
    "* Comprendre le nettoyage de données\n",
    "* Comprendre la visualisation de données"
   ]
  },
  {
   "cell_type": "markdown",
   "id": "804e0812",
   "metadata": {},
   "source": [
    "#### Analyse des données d'Airbnb :\n",
    "\n",
    "\n",
    "\n",
    "\n",
    "\n",
    "\n",
    "\n",
    "#### Objectif :\n",
    "\n",
    "\n",
    "\n",
    "\n",
    "\n",
    "\n",
    "\n",
    "Dans cet exercice, vous allez effectuer des analyses de données sur un *dataset* publique d'Airbnb. Tâches à effectuer:\n",
    "\n",
    "\n",
    "\n",
    "- Nettoyage de données.\n",
    "\n",
    "\n",
    "\n",
    "- Transformation de données\n",
    "\n",
    "\n",
    "\n",
    "- Visualisation de données.\n",
    "\n",
    "\n",
    "\n",
    "\n",
    "\n",
    "\n",
    "\n",
    "#### Aperçu des données Airbnb :\n",
    "\n",
    "\n",
    "\n",
    "\n",
    "\n",
    "\n",
    "\n",
    "Le principal critère des personnes qui visitent de nouveaux endroits est le prix raisonnable de l'hébergement et de la nourriture. Airbnb (Air-Bed-Breakfast) est un marché de locations en ligne créée pour répondre à ce besoin en permettant aux propriétaires de louer leur maison à court terme. Ils offrent ce service à un prix relativement inférieur à celui des hôtels. En outre, il semble que tout le monde  préfère le service chaleureux et plus abordable qu'ils offrent. Ainsi, leur offre s'étend sur presque toute la planète.\n",
    "\n",
    "\n",
    "\n",
    "\n",
    "\n",
    "\n",
    "\n",
    "#### Source du *dataset*\n",
    "\n",
    "\n",
    "\n",
    "\n",
    "\n",
    "\n",
    "\n",
    "Le *dataset* pour ce projet est disponible sur le lien suivant : https://www.kaggle.com/datasets/arianazmoudeh/airbnbopendata.\n",
    "\n",
    "\n",
    "\n",
    "\n",
    "\n",
    "\n",
    "\n",
    "Ce *dataset* contient des hébergements  et leurs informations respectives : quartier, type de chambre, prix, disponibilité, avis, frais de service, politique d'annulation et règlement intérieur.\n",
    "\n",
    "\n",
    "\n",
    "\n",
    "\n",
    "\n",
    "\n",
    "Nous vous souhaitons un bon voyage à travers les données d'Airbnb !"
   ]
  },
  {
   "cell_type": "markdown",
   "id": "925ca406",
   "metadata": {},
   "source": [
    "## 1e Tâche : téléchargement des données (Python)\n",
    "\n",
    "\n",
    "\n",
    "\n",
    "\n",
    "\n",
    "\n",
    "1. Lisez le fichier csv avec Pandas et créez un *dataframe*.\n",
    "\n",
    "\n",
    "\n",
    "2. Affichez les cinq premières lignes de votre *dataframe*.\n",
    "\n",
    "\n",
    "\n",
    "3. Affichez le type de données pour chaque colonne."
   ]
  },
  {
   "cell_type": "code",
   "execution_count": null,
   "id": "5f58b160",
   "metadata": {},
   "outputs": [],
   "source": [
    "## Lisez le fichier csv\n"
   ]
  },
  {
   "cell_type": "code",
   "execution_count": null,
   "id": "eabaa435",
   "metadata": {},
   "outputs": [],
   "source": [
    "## Affichez les 5 premières lignes\n"
   ]
  },
  {
   "cell_type": "code",
   "execution_count": null,
   "id": "da3d266d",
   "metadata": {},
   "outputs": [],
   "source": [
    "## Affichez les types de données\n"
   ]
  },
  {
   "cell_type": "markdown",
   "id": "64da3ac0",
   "metadata": {},
   "source": [
    "## Tâche 2a : nettoyage des données (tout outil)\n",
    "\n",
    "\n",
    "\n",
    "\n",
    "\n",
    "\n",
    "\n",
    "1. Supprimez les colonnes dont nous ne nous servirons pas. Il s'agit de `host id`, `id`, `country` et `country code` du *dataframe*.\n",
    "\n",
    "\n",
    "\n",
    "2. Expliquez pourquoi vous avez enlevé ces colonnes dans votre analyse.\n",
    "\n",
    "\n",
    "\n",
    "\n",
    "\n",
    "\n",
    "\n",
    "Si vous utilisez Python pour cet exercice, incluez les lignes de code dans les cellules ci-dessous. Si vous utilisez un autre outil, veuillez mettre les captures d'écran avant et après la suppression des colonnes."
   ]
  },
  {
   "cell_type": "code",
   "execution_count": null,
   "id": "37749c63",
   "metadata": {},
   "outputs": [],
   "source": []
  },
  {
   "cell_type": "code",
   "execution_count": null,
   "id": "c5693c9c",
   "metadata": {},
   "outputs": [],
   "source": []
  },
  {
   "cell_type": "markdown",
   "id": "886b441a",
   "metadata": {},
   "source": [
    "## Tâche 2b : Nettoyage des données (Python)\n",
    "\n",
    "\n",
    "\n",
    "\n",
    "\n",
    "\n",
    "\n",
    "- Vérifiez les valeurs manquantes et affichez les valeurs par ordre croissant. **En cas de données manquantes, veuillez invinter les données appropriées en fonction de la colonne dans laquelle se trouvent.**\n",
    "\n",
    "\n",
    "\n",
    "- Vérifiez les doublons et, le cas échéant, supprimez-les.\n",
    "\n",
    "\n",
    "\n",
    "- Affichez le nombre total de données avant et après la suppression des doublons."
   ]
  },
  {
   "cell_type": "code",
   "execution_count": null,
   "id": "fca9cc3d",
   "metadata": {},
   "outputs": [],
   "source": [
    "## Vérifier les valeurs manquantes et afficher les valeurs par ordre croissant.\n",
    "\n",
    "\n",
    "\n",
    "\n",
    "\n",
    "\n"
   ]
  },
  {
   "cell_type": "code",
   "execution_count": null,
   "id": "621764af",
   "metadata": {},
   "outputs": [],
   "source": [
    "## Vérifier les valeurs dupliquées et, le cas échéant, les supprimer.\n",
    "\n",
    "\n",
    "\n",
    "\n",
    "\n",
    "\n"
   ]
  },
  {
   "cell_type": "code",
   "execution_count": null,
   "id": "8d29bc43",
   "metadata": {},
   "outputs": [],
   "source": [
    "## Afficher le nombre total de données avant et après la suppression des doublons.\n",
    "\n",
    "\n",
    "\n",
    "\n",
    "\n",
    "\n"
   ]
  },
  {
   "cell_type": "markdown",
   "id": "ff559fdd",
   "metadata": {},
   "source": [
    "## Tâche 3 : transformation des données (tout outil)\n",
    "\n",
    "\n",
    "\n",
    "\n",
    "\n",
    "\n",
    "\n",
    "\n",
    "\n",
    "\n",
    "\n",
    "- Renommez la colonne `availability 365` et `days_booked`\n",
    "\n",
    "\n",
    "\n",
    "- Mettez tous les noms des colonnes en minuscules et remplacer les espaces dans les noms de colonnes par un trait de soulignement \"_\".\n",
    "\n",
    "\n",
    "\n",
    "- Supprimez le signe dollar et la virgule des colonnes `price` et `service_fee`. Si nécessaire, convertissez ces deux colonnes dans le type de données approprié.\n",
    "\n",
    "\n",
    "\n",
    "\n",
    "\n",
    "\n",
    "\n",
    "Si vous utilisez Python pour cet exercice, veuillez inclure le code dans les cellules ci-dessous. Si vous utilisez un autre outil, mettez  les captures d'écran de votre travail."
   ]
  },
  {
   "cell_type": "code",
   "execution_count": null,
   "id": "931e4bd5",
   "metadata": {},
   "outputs": [],
   "source": [
    "## Renommer la colonne.\n",
    "\n",
    "\n",
    "\n",
    "\n",
    "\n"
   ]
  },
  {
   "cell_type": "code",
   "execution_count": null,
   "id": "5b1f125d",
   "metadata": {},
   "outputs": [],
   "source": [
    "## Mettre tous les noms de colonnes en minuscules et remplacer les espaces par un trait de soulignement \"_\".\n",
    "\n",
    "\n",
    "\n"
   ]
  },
  {
   "cell_type": "code",
   "execution_count": null,
   "id": "8ef75ba4",
   "metadata": {},
   "outputs": [],
   "source": [
    "## Enlevez le signe dollar et la virgule des colonnes. Si nécessaire, convertissez ces deux colonnes dans le type de données approprié.\n",
    "\n",
    "\n",
    "\n"
   ]
  },
  {
   "cell_type": "markdown",
   "id": "ccdbe00c",
   "metadata": {},
   "source": [
    "### Tâche 4 : Analyse exploratoire des données (tout outil)\n",
    "\n",
    "\n",
    "\n",
    "\n",
    "\n",
    "\n",
    "\n",
    "- Indiquez le nombre de types de chambre disponibles dans l'ensemble de données.\n",
    "\n",
    "\n",
    "\n",
    "- Quel type de chambre a la politique d'annulation la plus stricte ?\n",
    "\n",
    "\n",
    "\n",
    "- Indiquez le prix moyen par quartier et mettez en évidence le quartier le plus cher à louer.\n",
    "\n",
    "\n",
    "\n",
    "\n",
    "\n",
    "\n",
    "\n",
    "Si vous utilisez Python pour cet exercice, veuillez inclure le code dans les cellules ci-dessous. Si vous utilisez un autre outil, veuillez mettre les des captures d'écran de votre travail."
   ]
  },
  {
   "cell_type": "code",
   "execution_count": null,
   "id": "47622704",
   "metadata": {},
   "outputs": [],
   "source": [
    "## Lister les différents types de chambres disponibles sur Airbnb\n"
   ]
  },
  {
   "cell_type": "code",
   "execution_count": null,
   "id": "699b6641",
   "metadata": {},
   "outputs": [],
   "source": [
    "## Quel type de chambre est soumis à une politique d'annulation plus stricte ?\n"
   ]
  },
  {
   "cell_type": "code",
   "execution_count": null,
   "id": "0ee0f367",
   "metadata": {},
   "outputs": [],
   "source": [
    "## Lister les prix par quartier et mentionner également quel groupe de quartiers est le plus cher pour les loyers.\n"
   ]
  },
  {
   "cell_type": "markdown",
   "id": "e84d7876",
   "metadata": {},
   "source": [
    "## Tâche 5a : visualisation de données (tout outil)\n",
    "\n",
    "\n",
    "\n",
    "\n",
    "\n",
    "\n",
    "\n",
    "- Créez un diagramme à barres horizontales pour montrer les 10 quartiers les plus chers du *dataset*.\n",
    "- Créez un autre avec les 10 quartiers les moins chers du *dataset*.\n",
    "- Créez un diagramme en boîtes (*box plot*) montrant la distribution des prix de toutes les annonces en fonction du type de chambre.\n",
    "\n",
    "\n",
    "\n",
    "\n",
    "\n",
    "Si vous utilisez Python pour cet exercice, incluez le code dans les cellules ci-dessous. Si vous utilisez un autre outil, veuillez mettre les captures d'écran de votre travail."
   ]
  },
  {
   "cell_type": "code",
   "execution_count": null,
   "id": "d11f9bd6",
   "metadata": {},
   "outputs": [],
   "source": []
  },
  {
   "cell_type": "code",
   "execution_count": null,
   "id": "ec9007f1",
   "metadata": {},
   "outputs": [],
   "source": []
  },
  {
   "cell_type": "code",
   "execution_count": null,
   "id": "d618ae2e",
   "metadata": {},
   "outputs": [],
   "source": []
  },
  {
   "cell_type": "code",
   "execution_count": null,
   "id": "1e6eb0a7",
   "metadata": {},
   "outputs": [],
   "source": []
  },
  {
   "cell_type": "markdown",
   "id": "c71d82e5",
   "metadata": {},
   "source": [
    "## Tâche 5b : visualisation des données (tout outil)\n",
    "\n",
    "\n",
    "\n",
    "\n",
    "\n",
    "\n",
    "\n",
    "- Créez un diagramme de dispersion pour illustrer la relation entre les frais de nettoyage et le prix de la chambre et notez le type de corrélation que vous observez, le cas échéant.\n",
    "\n",
    "\n",
    "\n",
    "- Créez un graphique linéaire pour montrer le nombre total logements disponibles par an.\n",
    "\n",
    "\n",
    "\n",
    "\n",
    "\n",
    "\n",
    "\n",
    "Si vous utilisez Python pour cet exercice, veuillez inclure le code dans les cellules ci-dessous. Si vous utilisez un autre outil, veuillez mettre les captures d'écran de votre travail."
   ]
  },
  {
   "cell_type": "code",
   "execution_count": null,
   "id": "02f60035",
   "metadata": {},
   "outputs": [],
   "source": []
  },
  {
   "cell_type": "code",
   "execution_count": null,
   "id": "0cf71787",
   "metadata": {},
   "outputs": [],
   "source": []
  },
  {
   "cell_type": "markdown",
   "id": "7e2c7222",
   "metadata": {},
   "source": [
    "## Tâche 5c : visualisation des données (tout outil)\n",
    "\n",
    "\n",
    "\n",
    "\n",
    "\n",
    "\n",
    "\n",
    "- Créez une visualisation de données de votre choix en utilisant l'une des colonnes des avis, seule ou en combinaison avec une autre colonne.\n",
    "\n",
    "\n",
    "\n",
    "- Créez une visualisation pour comparer au moins deux variables différentes entre les super-hôtes et les hôtes ordinaires.\n",
    "\n",
    "\n",
    "\n",
    "\n",
    "\n",
    "Si vous utilisez Python pour cet exercice, incluez le code dans les cellules ci-dessous. Si vous utilisez un autre outil, mettez les captures d'écran de votre travail."
   ]
  },
  {
   "cell_type": "code",
   "execution_count": null,
   "id": "39505ad3",
   "metadata": {},
   "outputs": [],
   "source": []
  },
  {
   "cell_type": "code",
   "execution_count": null,
   "id": "fa2cfb2f",
   "metadata": {},
   "outputs": [],
   "source": []
  },
  {
   "cell_type": "code",
   "execution_count": null,
   "id": "2000c262",
   "metadata": {},
   "outputs": [],
   "source": []
  }
 ],
 "metadata": {
  "kernelspec": {
   "display_name": "Python 3 (ipykernel)",
   "language": "python",
   "name": "python3"
  },
  "language_info": {
   "codemirror_mode": {
    "name": "ipython",
    "version": 3
   },
   "file_extension": ".py",
   "mimetype": "text/x-python",
   "name": "python",
   "nbconvert_exporter": "python",
   "pygments_lexer": "ipython3",
   "version": "3.9.13"
  },
  "nteract": {
   "version": "0.28.0"
  },
  "toc": {
   "base_numbering": 1,
   "nav_menu": {},
   "number_sections": false,
   "sideBar": true,
   "skip_h1_title": true,
   "title_cell": "Table of Contents",
   "title_sidebar": "Contents",
   "toc_cell": false,
   "toc_position": {},
   "toc_section_display": true,
   "toc_window_display": false
  }
 },
 "nbformat": 4,
 "nbformat_minor": 5
}
